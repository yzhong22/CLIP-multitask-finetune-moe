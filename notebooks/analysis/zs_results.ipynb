{
 "cells": [
  {
   "cell_type": "code",
   "execution_count": 1,
   "metadata": {},
   "outputs": [],
   "source": [
    "from easydict import EasyDict as edict\n",
    "import torch\n",
    "from torch.utils.data import Subset, DataLoader\n",
    "import torch.nn.functional as F\n",
    "import sys\n",
    "import os\n",
    "from tqdm import tqdm\n",
    "\n",
    "sys.path.append(\"../../\")"
   ]
  },
  {
   "cell_type": "code",
   "execution_count": 2,
   "metadata": {},
   "outputs": [
    {
     "name": "stderr",
     "output_type": "stream",
     "text": [
      "/home/yesindeed/anaconda3/envs/mmoe/lib/python3.10/site-packages/tqdm/auto.py:21: TqdmWarning: IProgress not found. Please update jupyter and ipywidgets. See https://ipywidgets.readthedocs.io/en/stable/user_install.html\n",
      "  from .autonotebook import tqdm as notebook_tqdm\n"
     ]
    }
   ],
   "source": [
    "from datasets.dataset import MultiLabelDataset\n",
    "from models import SingleExpertModel, BiomedCLIP"
   ]
  },
  {
   "cell_type": "code",
   "execution_count": 3,
   "metadata": {},
   "outputs": [],
   "source": [
    "subsets = [\"rsna-pulmonary-embolism\", \"chexpert\", \"lung-pet-ct-dx\", \"CC-CCII\", \"ssim-covid19\"]\n",
    "model_root = \"/media/yesindeed/DATADRIVE1/mount/remote_cse/experiments/multitask-moe/biomedclip/seed0/lp\"\n",
    "\n",
    "models = []\n",
    "\n",
    "for subset in subsets:\n",
    "    backbone = BiomedCLIP()\n",
    "    model = SingleExpertModel(backbone=backbone, residual_scale=0.1)\n",
    "\n",
    "    try:\n",
    "        ckpt = torch.load(os.path.join(model_root, f\"train_{subset}\", \"checkpoint-latest.pth\"))\n",
    "    except:\n",
    "        pass\n",
    "    model.load_state_dict(ckpt[\"model\"])\n",
    "\n",
    "    models.append(model.cuda())"
   ]
  },
  {
   "cell_type": "markdown",
   "metadata": {},
   "source": [
    "# Evaluate results"
   ]
  },
  {
   "cell_type": "code",
   "execution_count": 4,
   "metadata": {},
   "outputs": [],
   "source": [
    "texts = [\n",
    "    \"An image of diseased\",\n",
    "    \"An image of no findings\",\n",
    "]\n",
    "\n",
    "# texts = [\n",
    "#     \"An imageof\",\n",
    "#     \"An image of normal\",\n",
    "# ]\n",
    "\n",
    "with torch.no_grad():\n",
    "    text_embeddings = models[1].backbone.encode_text(texts).cpu()"
   ]
  },
  {
   "cell_type": "code",
   "execution_count": 5,
   "metadata": {},
   "outputs": [
    {
     "data": {
      "text/plain": [
       "torch.Size([2, 512])"
      ]
     },
     "execution_count": 5,
     "metadata": {},
     "output_type": "execute_result"
    }
   ],
   "source": [
    "text_embeddings.shape"
   ]
  },
  {
   "cell_type": "code",
   "execution_count": 6,
   "metadata": {},
   "outputs": [],
   "source": [
    "ood_id = 0\n",
    "\n",
    "test_set = MultiLabelDataset(\n",
    "    args=edict(input_size=224, data_root=\"/media/yesindeed/DATADRIVE1/mount/remote_cse/datasets/multitask-moe\"),\n",
    "    subsets=subsets[ood_id],\n",
    "    split=\"test\",\n",
    ")\n",
    "\n",
    "\n",
    "# datasamples = Subset(test_set, range(min(1000, len(test_set))))"
   ]
  },
  {
   "cell_type": "code",
   "execution_count": 7,
   "metadata": {},
   "outputs": [],
   "source": [
    "data_loader = DataLoader(test_set, batch_size=1, shuffle=False, drop_last=False)\n",
    "\n",
    "image_features = []\n",
    "labels = []\n",
    "\n",
    "with torch.no_grad():\n",
    "    features = []\n",
    "    for batch in data_loader:\n",
    "        image = batch[\"image\"].cuda()\n",
    "\n",
    "        feature = models[1].backbone.encode_image(image)\n",
    "        features.append(feature)\n",
    "\n",
    "        labels.append(batch[\"label\"].squeeze()[0])\n",
    "\n",
    "    features = torch.concat(features, dim=0).cpu().numpy()\n",
    "    image_features.append(features)\n",
    "\n",
    "    for model in tqdm(models):\n",
    "        model.eval()\n",
    "\n",
    "        features = []\n",
    "\n",
    "        for batch in data_loader:\n",
    "            image = batch[\"image\"].cuda()\n",
    "\n",
    "            feature = model.encode_image(image)\n",
    "\n",
    "            features.append(feature)\n",
    "\n",
    "        features = torch.concat(features, dim=0).cpu().numpy()\n",
    "        image_features.append(features)\n",
    "\n",
    "labels = torch.stack(labels).view(-1).cpu().numpy()"
   ]
  },
  {
   "cell_type": "code",
   "execution_count": null,
   "metadata": {},
   "outputs": [
    {
     "data": {
      "text/plain": [
       "array([1, 1, 1, 1, 1, 1, 1, 1, 1, 1, 1, 1, 1, 1, 1, 1, 1, 1, 1, 1, 0, 1,\n",
       "       1, 1, 1, 1, 1, 1, 1, 1, 1, 1, 1, 1, 1, 1, 1, 1, 1, 1, 1, 1, 1, 1,\n",
       "       1, 1, 1, 1, 1, 0, 1, 1, 1, 1, 1, 1, 1, 1, 1, 1, 1, 1, 1, 1, 1, 1,\n",
       "       1, 1, 1, 1, 1, 1, 1, 1, 1, 1, 0, 0, 1, 1, 0, 1, 1, 1, 0, 1, 1, 1,\n",
       "       1, 1, 1, 1, 1, 0, 1, 1, 1, 1, 1, 1, 1, 1, 1, 1, 1, 1, 1, 1, 1, 1,\n",
       "       1, 1, 1, 0, 1, 1, 1, 1, 1, 1, 1, 1, 1, 1, 1, 1, 1, 1, 1, 1, 1, 1,\n",
       "       1, 1, 1, 1, 1, 1, 1, 1, 1, 1, 1, 1, 0, 1, 1, 1, 1, 1, 1, 1, 1, 1,\n",
       "       1, 0, 1, 1, 1, 1, 1, 1, 1, 1, 1, 1, 1, 0, 1, 1, 1, 1, 1, 0, 1, 1,\n",
       "       1, 1, 1, 1, 1, 1, 1, 1, 1, 1, 1, 1, 1, 1, 1, 0, 1, 1, 1, 1, 1, 1,\n",
       "       1, 1, 0, 1, 1, 1, 1, 1, 1, 1, 1, 1, 1, 1, 1, 1, 1, 1, 1, 1, 1, 1,\n",
       "       1, 1, 1, 1, 1, 1, 1, 1, 1, 1, 1, 1, 1, 1, 1, 1, 1, 1, 1, 1, 1, 1,\n",
       "       1, 1, 1, 1, 1, 1, 1, 0, 1, 1, 1, 0, 1, 1, 1, 1, 1, 1, 1, 1, 1, 0,\n",
       "       1, 1, 1, 1, 1, 1, 1, 1, 0, 1, 1, 1, 0, 1, 1, 1, 1, 1, 1, 1, 1, 0,\n",
       "       1, 1, 1, 1, 1, 1, 1, 1, 1, 1, 1, 1, 1, 1, 1, 1, 1, 1, 1, 1, 1, 1,\n",
       "       1, 1, 1, 1, 1, 1, 1, 1, 1, 1, 1, 1, 1, 1, 1, 0, 1, 1, 1, 1, 1, 1,\n",
       "       1, 1, 1, 1, 1, 1, 1, 1, 1, 1, 1, 1, 1, 0, 1, 1, 1, 1, 1, 1, 1, 1,\n",
       "       1, 1, 1, 1, 1, 1, 1, 1, 1, 1, 1, 1, 1, 1, 1, 1, 1, 1, 1, 1, 1, 1,\n",
       "       1, 0, 1, 1, 1, 1, 1, 1, 1, 1, 1, 1, 1, 1, 1, 1, 1, 1, 1, 1, 1, 1,\n",
       "       1, 1, 1, 1, 1, 1, 1, 1, 1, 1, 1, 1, 1, 1, 1, 1, 0, 1, 1, 1, 1, 1,\n",
       "       1, 1, 1, 1, 1, 1, 1, 1, 1, 1, 1, 1, 1, 1, 1, 1, 1, 1, 1, 1, 1, 1,\n",
       "       1, 1, 1, 1, 1, 1, 1, 1, 1, 1, 1, 1, 1, 1, 1, 1, 1, 1, 1, 1, 1, 1,\n",
       "       1, 1, 1, 1, 1, 1, 1, 1, 1, 1, 1, 1, 1, 1, 1, 1, 1, 1, 1, 1, 1, 1,\n",
       "       1, 1, 1, 1, 1, 1, 1, 0, 1, 1, 1, 1, 1, 1, 1, 1, 1, 1, 1, 1, 1, 1,\n",
       "       1, 1, 1, 1, 1, 1, 1, 1, 1, 1, 1, 1, 1, 1, 1, 1, 1, 1, 1, 1, 1, 1,\n",
       "       1, 1, 1, 1, 1, 1, 1, 1, 0, 1, 1, 1, 1, 1, 1, 1, 1, 1, 1, 1, 1, 1,\n",
       "       1, 1, 1, 1, 1, 1, 1, 1, 1, 1, 1, 1, 1, 1, 1, 1, 1, 1, 1, 1, 1, 0,\n",
       "       1, 1, 1, 1, 1, 1, 1, 1, 1, 1, 1, 1, 1, 1, 1, 1, 1, 1, 1, 1, 1, 1,\n",
       "       1, 1, 1, 1, 1, 1, 1, 1, 1, 0, 1, 1, 1, 0, 1, 1, 1, 1, 1, 1, 1, 1,\n",
       "       1, 1, 1, 1, 0, 1, 1, 1, 1, 1, 1, 1, 1, 1, 1, 1, 1, 1, 1, 1, 1, 1,\n",
       "       1, 1, 1, 1, 1, 1, 1, 1, 1, 1, 1, 1, 1, 1, 1, 1, 1, 1, 1, 1, 1, 1,\n",
       "       1, 1, 1, 1, 1, 0, 1, 1, 1, 0, 1, 1, 1, 1, 1, 1, 1, 1, 1, 1, 1, 0,\n",
       "       0, 1, 1, 1, 1, 1, 1, 1, 0, 1, 1, 1, 1, 1, 1, 1, 1, 1, 1, 1, 1, 0,\n",
       "       1, 1, 1, 1, 1, 1, 1, 1, 1, 1, 1, 1, 1, 1, 1, 1, 1, 1, 1, 1, 1, 1,\n",
       "       1, 1, 0, 0, 1, 1, 1, 0, 1, 1, 1, 1, 1, 1, 1, 1, 1, 1, 1, 1, 1, 1,\n",
       "       1, 1, 1, 1, 1, 1, 1, 1, 1, 1, 1, 1, 1, 1, 1, 1, 1, 1, 1, 1, 1, 1,\n",
       "       1, 1, 1, 1, 1, 1, 1, 1, 1, 1, 1, 1, 1, 1, 1, 1, 1, 1, 1, 1, 1, 1,\n",
       "       1, 1, 1, 1, 1, 1, 1, 1, 1, 1, 1, 1, 1, 0, 1, 1, 1, 1, 1, 0, 1, 1,\n",
       "       1, 1, 1, 1, 1, 1, 1, 1, 1, 1, 1, 1, 1, 1, 1, 1, 1, 1, 1, 1, 1, 1,\n",
       "       1, 1, 1, 1, 0, 1, 1, 1, 0, 1, 1, 1, 1, 1, 1, 1, 1, 0, 1, 1, 1, 1,\n",
       "       1, 1, 1, 1, 0, 1, 1, 1, 1, 1, 1, 1, 1, 1, 1, 1, 1, 1, 1, 1, 1, 1,\n",
       "       1, 1, 1, 1, 1, 1, 1, 1, 1, 1, 1, 1, 1, 1, 1, 1, 1, 1, 1, 1, 1, 1,\n",
       "       1, 1, 1, 1, 1, 1, 1, 1, 1, 1, 1, 1, 1, 1, 1, 1, 1, 1, 1, 1, 1, 1,\n",
       "       0, 1, 1, 1, 1, 1, 1, 1, 1, 0, 1, 1, 1, 1, 0, 1, 1, 1, 1, 1, 1, 1,\n",
       "       1, 1, 1, 1, 1, 1, 1, 1, 1, 1, 1, 1, 0, 1, 1, 1, 1, 1, 1, 1, 1, 1,\n",
       "       1, 1, 1, 1, 1, 1, 1, 1, 0, 1, 1, 1, 1, 1, 1, 1, 0, 1, 1, 1, 1, 1,\n",
       "       1, 1, 1, 1, 1, 1, 0, 1, 1, 1])"
      ]
     },
     "execution_count": 120,
     "metadata": {},
     "output_type": "execute_result"
    }
   ],
   "source": [
    "labels"
   ]
  },
  {
   "cell_type": "code",
   "execution_count": null,
   "metadata": {},
   "outputs": [],
   "source": [
    "subsets_ = [\"rsna-pulmonary-embolism\", \"chexpert\", \"lung-pet-ct-dx\", \"CC-CCII\", \"ssim-covid19\"]\n",
    "\n",
    "image_features_pretrained = torch.tensor(image_features[0])\n",
    "\n",
    "image_features_adapted = image_features[1:]\n",
    "image_features_adapted = torch.stack([torch.tensor(x) for x in image_features[1:]])"
   ]
  },
  {
   "cell_type": "code",
   "execution_count": null,
   "metadata": {},
   "outputs": [
    {
     "data": {
      "text/plain": [
       "torch.Size([1000, 512])"
      ]
     },
     "execution_count": 122,
     "metadata": {},
     "output_type": "execute_result"
    }
   ],
   "source": [
    "image_features_pretrained.shape"
   ]
  },
  {
   "cell_type": "code",
   "execution_count": null,
   "metadata": {},
   "outputs": [
    {
     "data": {
      "text/plain": [
       "torch.Size([5, 1000, 512])"
      ]
     },
     "execution_count": 123,
     "metadata": {},
     "output_type": "execute_result"
    }
   ],
   "source": [
    "image_features_adapted.shape"
   ]
  },
  {
   "cell_type": "code",
   "execution_count": null,
   "metadata": {},
   "outputs": [
    {
     "name": "stdout",
     "output_type": "stream",
     "text": [
      "rsna-pulmonary-embolism: 80.0490912041545\n",
      "chexpert: 76.45245050308343\n",
      "lung-pet-ct-dx: 76.90076273937035\n",
      "CC-CCII: 74.71397273612463\n",
      "ssim-covid19: 75.927052904901\n"
     ]
    }
   ],
   "source": [
    "from sklearn.metrics import roc_auc_score\n",
    "\n",
    "for i, subset in enumerate(subsets_):\n",
    "    logits = models[0].backbone.logit_scale * \\\n",
    "        F.normalize(image_features_adapted[i], dim=-1) @ text_embeddings.t()\n",
    "\n",
    "    logits = torch.softmax(logits, dim=-1)[:, -1].detach().cpu().numpy()\n",
    "\n",
    "    auc = roc_auc_score(labels, logits)\n",
    "\n",
    "    print(f\"{subset}: {auc * 100}\")"
   ]
  },
  {
   "cell_type": "code",
   "execution_count": null,
   "metadata": {},
   "outputs": [
    {
     "data": {
      "text/plain": [
       "85.2322769165039"
      ]
     },
     "execution_count": 129,
     "metadata": {},
     "output_type": "execute_result"
    }
   ],
   "source": [
    "models[0].backbone.logit_scale"
   ]
  },
  {
   "cell_type": "code",
   "execution_count": null,
   "metadata": {},
   "outputs": [
    {
     "name": "stdout",
     "output_type": "stream",
     "text": [
      "zero-shot: 76.0183382018825\n"
     ]
    }
   ],
   "source": [
    "logits = models[0].backbone.logit_scale * F.normalize(image_features_pretrained, dim=-1) @ text_embeddings.t()\n",
    "logits = torch.softmax(logits, dim=-1)[:, -1].detach().cpu().numpy()\n",
    "\n",
    "auc = roc_auc_score(labels, logits)\n",
    "print(f\"zero-shot: {auc * 100}\")"
   ]
  },
  {
   "cell_type": "code",
   "execution_count": null,
   "metadata": {},
   "outputs": [
    {
     "name": "stdout",
     "output_type": "stream",
     "text": [
      "ensemble-no-zs: 0.7615830899058748\n"
     ]
    }
   ],
   "source": [
    "image_features_ood = torch.concat([image_features_adapted[:ood_id], image_features_adapted[ood_id + 1 :]], dim=0)\n",
    "image_features_ensembled = torch.mean(image_features_ood, dim=0)\n",
    "\n",
    "logits = models[0].backbone.logit_scale * F.normalize(image_features_ensembled, dim=-1) @ text_embeddings.t()\n",
    "logits = torch.softmax(logits, dim=-1)[:, -1].detach().cpu().numpy()\n",
    "\n",
    "auc = roc_auc_score(labels, logits)\n",
    "print(f\"ensemble-no-zs: {auc}\")"
   ]
  },
  {
   "cell_type": "code",
   "execution_count": null,
   "metadata": {},
   "outputs": [
    {
     "name": "stdout",
     "output_type": "stream",
     "text": [
      "ensemble: 0.7602036676403765\n"
     ]
    }
   ],
   "source": [
    "image_features_ensembled = torch.mean(\n",
    "    image_features_ood, dim=0) * 0.5 + image_features_pretrained * 0.5\n",
    "image_features_ensembled = F.normalize(image_features_ensembled, dim=-1)\n",
    "\n",
    "logits = models[0].backbone.logit_scale * \\\n",
    "    image_features_ensembled @ text_embeddings.t()\n",
    "logits = torch.softmax(logits, dim=-1)[:, -1].detach().cpu().numpy()\n",
    "\n",
    "auc = roc_auc_score(labels, logits)\n",
    "print(f\"ensemble: {auc}\")"
   ]
  },
  {
   "cell_type": "markdown",
   "metadata": {},
   "source": [
    "## OOD: CXP\n",
    "\n",
    "rsna-pulmonary-embolism: 0.4916133815216384\n",
    "\n",
    "chexpert: 0.8632090528114993\n",
    "\n",
    "lung-pet-ct-dx: 0.708120965001699\n",
    "\n",
    "CC-CCII: 0.7538792615245214\n",
    "\n",
    "ssim-covid19: 0.8346667490398378\n",
    "\n",
    "\n",
    "zero-shot: 0.7366323788342137\n",
    "\n",
    "ensemble-no-zs: 0.7897218875812149\n",
    "\n",
    "ensemble: 0.7591254028562897"
   ]
  },
  {
   "cell_type": "markdown",
   "metadata": {},
   "source": [
    "## OOD: lung pet ct dx\n",
    "\n",
    "rsna-pulmonary-embolism: 0.7061092268525175\n",
    "\n",
    "chexpert: 0.682443690741007\n",
    "\n",
    "lung-pet-ct-dx: 0.8930483544924767\n",
    "\n",
    "CC-CCII: 0.6562280620141925\n",
    "\n",
    "ssim-covid19: 0.703504157116154\n",
    "\n",
    "zero-shot: 0.7447369979108696\n",
    "\n",
    "ensemble-no-zs: 0.7459634106114302\n",
    "\n",
    "ensemble: 0.7485600223291692"
   ]
  },
  {
   "cell_type": "markdown",
   "metadata": {},
   "source": [
    "## OOD: rsna-pulmonary-embolism\n",
    "\n",
    "rsna-pulmonary-embolism: 0.8383844530996429\n",
    "\n",
    "chexpert: 0.6130720545277506\n",
    "\n",
    "lung-pet-ct-dx: 0.6887374229146381\n",
    "\n",
    "CC-CCII: 0.5008317104836092\n",
    "\n",
    "ssim-covid19: 0.6793857513794224\n",
    "\n",
    "zero-shot: 0.7328180785459266\n",
    "\n",
    "ensemble-no-zs: 0.6419587796170075\n",
    "\n",
    "ensemble: 0.7204032781564428"
   ]
  },
  {
   "cell_type": "markdown",
   "metadata": {},
   "source": [
    "## CC-CCII\n",
    "\n",
    "rsna-pulmonary-embolism: 0.725738284703802\n",
    "\n",
    "chexpert: 0.8657559681697613\n",
    "\n",
    "lung-pet-ct-dx: 0.8848452696728559\n",
    "\n",
    "CC-CCII: 0.9770999115826702\n",
    "\n",
    "ssim-covid19: 0.9083377541998232\n",
    "\n",
    "zero-shot: 0.8183642793987623\n",
    "\n",
    "ensemble-no-zs: 0.9037400530503978\n",
    "\n",
    "ensemble: 0.856445623342175"
   ]
  },
  {
   "cell_type": "markdown",
   "metadata": {},
   "source": [
    "## OOD: SSIM-COVID\n",
    "\n",
    "rsna-pulmonary-embolism: 0.3698609602678976\n",
    "\n",
    "chexpert: 0.8022954566024075\n",
    "\n",
    "lung-pet-ct-dx: 0.748461399221649\n",
    "\n",
    "CC-CCII: 0.7846326590641687\n",
    "\n",
    "ssim-covid19: 0.841524119829849\n",
    "\n",
    "zero-shot: 0.7170134175038465\n",
    "\n",
    "ensemble-no-zs: 0.7999847271246264\n",
    "\n",
    "ensemble: 0.7484953389447009"
   ]
  },
  {
   "cell_type": "markdown",
   "metadata": {},
   "source": [
    "# Norm Constrained"
   ]
  },
  {
   "cell_type": "markdown",
   "metadata": {},
   "source": [
    "## lung-pet-ct-dx\n",
    "\n",
    "rsna-pulmonary-embolism: 0.7039989512056906\n",
    "\n",
    "chexpert: 0.7044683712393535\n",
    "\n",
    "lung-pet-ct-dx: 0.8937842021128132\n",
    "\n",
    "CC-CCII: 0.6626899882433541\n",
    "\n",
    "ssim-covid19: 0.6773688795662727\n",
    "\n",
    "zero-shot: 0.7348960932411974\n",
    "\n",
    "ensemble-no-zs: 0.7496933968248598\n",
    "\n",
    "ensemble: 0.7492620378750074"
   ]
  },
  {
   "cell_type": "markdown",
   "metadata": {},
   "source": [
    "## OOD:SSIM-COVID\n",
    "\n",
    "rsna-pulmonary-embolism: 0.4038487645940809\n",
    "\n",
    "chexpert: 0.789426644945244\n",
    "\n",
    "lung-pet-ct-dx: 0.685644628473165\n",
    "\n",
    "CC-CCII: 0.73853403022898\n",
    "\n",
    "ssim-covid19: 0.8443807131867137\n",
    "\n",
    "zero-shot: 0.7236938863245543\n",
    "\n",
    "ensemble-no-zs: 0.7065599828038737\n",
    "\n",
    "ensemble: 0.7348996515521766"
   ]
  },
  {
   "cell_type": "code",
   "execution_count": null,
   "metadata": {},
   "outputs": [],
   "source": []
  }
 ],
 "metadata": {
  "kernelspec": {
   "display_name": "mmoe",
   "language": "python",
   "name": "python3"
  },
  "language_info": {
   "codemirror_mode": {
    "name": "ipython",
    "version": 3
   },
   "file_extension": ".py",
   "mimetype": "text/x-python",
   "name": "python",
   "nbconvert_exporter": "python",
   "pygments_lexer": "ipython3",
   "version": "3.10.0"
  }
 },
 "nbformat": 4,
 "nbformat_minor": 2
}
