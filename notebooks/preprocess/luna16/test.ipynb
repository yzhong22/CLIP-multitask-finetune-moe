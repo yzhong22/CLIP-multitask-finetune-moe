{
 "cells": [
  {
   "cell_type": "code",
   "execution_count": 98,
   "metadata": {},
   "outputs": [],
   "source": [
    "import os\n",
    "import SimpleITK as sitk\n",
    "import pandas as pd\n",
    "import numpy as np\n",
    "from tqdm import tqdm\n",
    "import glob"
   ]
  },
  {
   "cell_type": "code",
   "execution_count": 99,
   "metadata": {},
   "outputs": [],
   "source": [
    "root = \"/media/yesindeed/DATADRIVE1/mount/remote_cse/datasets/multitask-moe/luna16\""
   ]
  },
  {
   "cell_type": "code",
   "execution_count": 100,
   "metadata": {},
   "outputs": [],
   "source": [
    "df_candidates = pd.read_csv(os.path.join(\n",
    "    root, \"candidates_V2/candidates_V2.csv\"))\n",
    "\n",
    "\n",
    "df_annotation = pd.read_csv(os.path.join(root, \"annotations.csv\"))"
   ]
  },
  {
   "cell_type": "code",
   "execution_count": 101,
   "metadata": {},
   "outputs": [
    {
     "data": {
      "text/html": [
       "<div>\n",
       "<style scoped>\n",
       "    .dataframe tbody tr th:only-of-type {\n",
       "        vertical-align: middle;\n",
       "    }\n",
       "\n",
       "    .dataframe tbody tr th {\n",
       "        vertical-align: top;\n",
       "    }\n",
       "\n",
       "    .dataframe thead th {\n",
       "        text-align: right;\n",
       "    }\n",
       "</style>\n",
       "<table border=\"1\" class=\"dataframe\">\n",
       "  <thead>\n",
       "    <tr style=\"text-align: right;\">\n",
       "      <th></th>\n",
       "      <th>seriesuid</th>\n",
       "      <th>coordX</th>\n",
       "      <th>coordY</th>\n",
       "      <th>coordZ</th>\n",
       "      <th>diameter_mm</th>\n",
       "    </tr>\n",
       "  </thead>\n",
       "  <tbody>\n",
       "    <tr>\n",
       "      <th>0</th>\n",
       "      <td>1.3.6.1.4.1.14519.5.2.1.6279.6001.100225287222...</td>\n",
       "      <td>-128.699421</td>\n",
       "      <td>-175.319272</td>\n",
       "      <td>-298.387506</td>\n",
       "      <td>5.651471</td>\n",
       "    </tr>\n",
       "    <tr>\n",
       "      <th>1</th>\n",
       "      <td>1.3.6.1.4.1.14519.5.2.1.6279.6001.100225287222...</td>\n",
       "      <td>103.783651</td>\n",
       "      <td>-211.925149</td>\n",
       "      <td>-227.121250</td>\n",
       "      <td>4.224708</td>\n",
       "    </tr>\n",
       "    <tr>\n",
       "      <th>2</th>\n",
       "      <td>1.3.6.1.4.1.14519.5.2.1.6279.6001.100398138793...</td>\n",
       "      <td>69.639017</td>\n",
       "      <td>-140.944586</td>\n",
       "      <td>876.374496</td>\n",
       "      <td>5.786348</td>\n",
       "    </tr>\n",
       "    <tr>\n",
       "      <th>3</th>\n",
       "      <td>1.3.6.1.4.1.14519.5.2.1.6279.6001.100621383016...</td>\n",
       "      <td>-24.013824</td>\n",
       "      <td>192.102405</td>\n",
       "      <td>-391.081276</td>\n",
       "      <td>8.143262</td>\n",
       "    </tr>\n",
       "    <tr>\n",
       "      <th>4</th>\n",
       "      <td>1.3.6.1.4.1.14519.5.2.1.6279.6001.100621383016...</td>\n",
       "      <td>2.441547</td>\n",
       "      <td>172.464881</td>\n",
       "      <td>-405.493732</td>\n",
       "      <td>18.545150</td>\n",
       "    </tr>\n",
       "    <tr>\n",
       "      <th>...</th>\n",
       "      <td>...</td>\n",
       "      <td>...</td>\n",
       "      <td>...</td>\n",
       "      <td>...</td>\n",
       "      <td>...</td>\n",
       "    </tr>\n",
       "    <tr>\n",
       "      <th>1181</th>\n",
       "      <td>1.3.6.1.4.1.14519.5.2.1.6279.6001.994459772950...</td>\n",
       "      <td>-160.856298</td>\n",
       "      <td>-28.560349</td>\n",
       "      <td>-269.168728</td>\n",
       "      <td>5.053694</td>\n",
       "    </tr>\n",
       "    <tr>\n",
       "      <th>1182</th>\n",
       "      <td>1.3.6.1.4.1.14519.5.2.1.6279.6001.994459772950...</td>\n",
       "      <td>-102.189570</td>\n",
       "      <td>-73.865766</td>\n",
       "      <td>-220.536241</td>\n",
       "      <td>4.556101</td>\n",
       "    </tr>\n",
       "    <tr>\n",
       "      <th>1183</th>\n",
       "      <td>1.3.6.1.4.1.14519.5.2.1.6279.6001.994459772950...</td>\n",
       "      <td>-37.535409</td>\n",
       "      <td>64.041949</td>\n",
       "      <td>-127.687101</td>\n",
       "      <td>4.357368</td>\n",
       "    </tr>\n",
       "    <tr>\n",
       "      <th>1184</th>\n",
       "      <td>1.3.6.1.4.1.14519.5.2.1.6279.6001.997611074084...</td>\n",
       "      <td>43.196112</td>\n",
       "      <td>74.438486</td>\n",
       "      <td>-200.523314</td>\n",
       "      <td>4.277203</td>\n",
       "    </tr>\n",
       "    <tr>\n",
       "      <th>1185</th>\n",
       "      <td>1.3.6.1.4.1.14519.5.2.1.6279.6001.997611074084...</td>\n",
       "      <td>-21.958478</td>\n",
       "      <td>33.486096</td>\n",
       "      <td>-155.292026</td>\n",
       "      <td>23.802913</td>\n",
       "    </tr>\n",
       "  </tbody>\n",
       "</table>\n",
       "<p>1186 rows × 5 columns</p>\n",
       "</div>"
      ],
      "text/plain": [
       "                                              seriesuid      coordX  \\\n",
       "0     1.3.6.1.4.1.14519.5.2.1.6279.6001.100225287222... -128.699421   \n",
       "1     1.3.6.1.4.1.14519.5.2.1.6279.6001.100225287222...  103.783651   \n",
       "2     1.3.6.1.4.1.14519.5.2.1.6279.6001.100398138793...   69.639017   \n",
       "3     1.3.6.1.4.1.14519.5.2.1.6279.6001.100621383016...  -24.013824   \n",
       "4     1.3.6.1.4.1.14519.5.2.1.6279.6001.100621383016...    2.441547   \n",
       "...                                                 ...         ...   \n",
       "1181  1.3.6.1.4.1.14519.5.2.1.6279.6001.994459772950... -160.856298   \n",
       "1182  1.3.6.1.4.1.14519.5.2.1.6279.6001.994459772950... -102.189570   \n",
       "1183  1.3.6.1.4.1.14519.5.2.1.6279.6001.994459772950...  -37.535409   \n",
       "1184  1.3.6.1.4.1.14519.5.2.1.6279.6001.997611074084...   43.196112   \n",
       "1185  1.3.6.1.4.1.14519.5.2.1.6279.6001.997611074084...  -21.958478   \n",
       "\n",
       "          coordY      coordZ  diameter_mm  \n",
       "0    -175.319272 -298.387506     5.651471  \n",
       "1    -211.925149 -227.121250     4.224708  \n",
       "2    -140.944586  876.374496     5.786348  \n",
       "3     192.102405 -391.081276     8.143262  \n",
       "4     172.464881 -405.493732    18.545150  \n",
       "...          ...         ...          ...  \n",
       "1181  -28.560349 -269.168728     5.053694  \n",
       "1182  -73.865766 -220.536241     4.556101  \n",
       "1183   64.041949 -127.687101     4.357368  \n",
       "1184   74.438486 -200.523314     4.277203  \n",
       "1185   33.486096 -155.292026    23.802913  \n",
       "\n",
       "[1186 rows x 5 columns]"
      ]
     },
     "execution_count": 101,
     "metadata": {},
     "output_type": "execute_result"
    }
   ],
   "source": [
    "df_annotation"
   ]
  },
  {
   "cell_type": "code",
   "execution_count": 102,
   "metadata": {},
   "outputs": [
    {
     "data": {
      "text/plain": [
       "class\n",
       "0    753418\n",
       "1      1557\n",
       "Name: count, dtype: int64"
      ]
     },
     "execution_count": 102,
     "metadata": {},
     "output_type": "execute_result"
    }
   ],
   "source": [
    "df_candidates[\"class\"].value_counts()"
   ]
  },
  {
   "cell_type": "code",
   "execution_count": 103,
   "metadata": {},
   "outputs": [],
   "source": [
    "path_dict = {\"seriesuid\": [], \"path\": []}\n",
    "\n",
    "for file in glob.glob(f\"{root}/subset*/subset*/*.mhd\"):\n",
    "    path_dict[\"seriesuid\"].append(os.path.basename(file)[:-4])\n",
    "    path_dict[\"path\"].append(file.replace(root, \".\"))\n",
    "\n",
    "df_path = pd.DataFrame.from_dict(path_dict)"
   ]
  },
  {
   "cell_type": "code",
   "execution_count": 104,
   "metadata": {},
   "outputs": [
    {
     "data": {
      "text/html": [
       "<div>\n",
       "<style scoped>\n",
       "    .dataframe tbody tr th:only-of-type {\n",
       "        vertical-align: middle;\n",
       "    }\n",
       "\n",
       "    .dataframe tbody tr th {\n",
       "        vertical-align: top;\n",
       "    }\n",
       "\n",
       "    .dataframe thead th {\n",
       "        text-align: right;\n",
       "    }\n",
       "</style>\n",
       "<table border=\"1\" class=\"dataframe\">\n",
       "  <thead>\n",
       "    <tr style=\"text-align: right;\">\n",
       "      <th></th>\n",
       "      <th>seriesuid</th>\n",
       "      <th>path</th>\n",
       "    </tr>\n",
       "  </thead>\n",
       "  <tbody>\n",
       "    <tr>\n",
       "      <th>0</th>\n",
       "      <td>1.3.6.1.4.1.14519.5.2.1.6279.6001.105756658031...</td>\n",
       "      <td>./subset0/subset0/1.3.6.1.4.1.14519.5.2.1.6279...</td>\n",
       "    </tr>\n",
       "    <tr>\n",
       "      <th>1</th>\n",
       "      <td>1.3.6.1.4.1.14519.5.2.1.6279.6001.108197895896...</td>\n",
       "      <td>./subset0/subset0/1.3.6.1.4.1.14519.5.2.1.6279...</td>\n",
       "    </tr>\n",
       "    <tr>\n",
       "      <th>2</th>\n",
       "      <td>1.3.6.1.4.1.14519.5.2.1.6279.6001.109002525524...</td>\n",
       "      <td>./subset0/subset0/1.3.6.1.4.1.14519.5.2.1.6279...</td>\n",
       "    </tr>\n",
       "    <tr>\n",
       "      <th>3</th>\n",
       "      <td>1.3.6.1.4.1.14519.5.2.1.6279.6001.111172165674...</td>\n",
       "      <td>./subset0/subset0/1.3.6.1.4.1.14519.5.2.1.6279...</td>\n",
       "    </tr>\n",
       "    <tr>\n",
       "      <th>4</th>\n",
       "      <td>1.3.6.1.4.1.14519.5.2.1.6279.6001.122763913896...</td>\n",
       "      <td>./subset0/subset0/1.3.6.1.4.1.14519.5.2.1.6279...</td>\n",
       "    </tr>\n",
       "    <tr>\n",
       "      <th>...</th>\n",
       "      <td>...</td>\n",
       "      <td>...</td>\n",
       "    </tr>\n",
       "    <tr>\n",
       "      <th>440</th>\n",
       "      <td>1.3.6.1.4.1.14519.5.2.1.6279.6001.811825890493...</td>\n",
       "      <td>./subset4/subset4/1.3.6.1.4.1.14519.5.2.1.6279...</td>\n",
       "    </tr>\n",
       "    <tr>\n",
       "      <th>441</th>\n",
       "      <td>1.3.6.1.4.1.14519.5.2.1.6279.6001.826829446346...</td>\n",
       "      <td>./subset4/subset4/1.3.6.1.4.1.14519.5.2.1.6279...</td>\n",
       "    </tr>\n",
       "    <tr>\n",
       "      <th>442</th>\n",
       "      <td>1.3.6.1.4.1.14519.5.2.1.6279.6001.885168397833...</td>\n",
       "      <td>./subset4/subset4/1.3.6.1.4.1.14519.5.2.1.6279...</td>\n",
       "    </tr>\n",
       "    <tr>\n",
       "      <th>443</th>\n",
       "      <td>1.3.6.1.4.1.14519.5.2.1.6279.6001.897684031374...</td>\n",
       "      <td>./subset4/subset4/1.3.6.1.4.1.14519.5.2.1.6279...</td>\n",
       "    </tr>\n",
       "    <tr>\n",
       "      <th>444</th>\n",
       "      <td>1.3.6.1.4.1.14519.5.2.1.6279.6001.910435939545...</td>\n",
       "      <td>./subset4/subset4/1.3.6.1.4.1.14519.5.2.1.6279...</td>\n",
       "    </tr>\n",
       "  </tbody>\n",
       "</table>\n",
       "<p>445 rows × 2 columns</p>\n",
       "</div>"
      ],
      "text/plain": [
       "                                             seriesuid  \\\n",
       "0    1.3.6.1.4.1.14519.5.2.1.6279.6001.105756658031...   \n",
       "1    1.3.6.1.4.1.14519.5.2.1.6279.6001.108197895896...   \n",
       "2    1.3.6.1.4.1.14519.5.2.1.6279.6001.109002525524...   \n",
       "3    1.3.6.1.4.1.14519.5.2.1.6279.6001.111172165674...   \n",
       "4    1.3.6.1.4.1.14519.5.2.1.6279.6001.122763913896...   \n",
       "..                                                 ...   \n",
       "440  1.3.6.1.4.1.14519.5.2.1.6279.6001.811825890493...   \n",
       "441  1.3.6.1.4.1.14519.5.2.1.6279.6001.826829446346...   \n",
       "442  1.3.6.1.4.1.14519.5.2.1.6279.6001.885168397833...   \n",
       "443  1.3.6.1.4.1.14519.5.2.1.6279.6001.897684031374...   \n",
       "444  1.3.6.1.4.1.14519.5.2.1.6279.6001.910435939545...   \n",
       "\n",
       "                                                  path  \n",
       "0    ./subset0/subset0/1.3.6.1.4.1.14519.5.2.1.6279...  \n",
       "1    ./subset0/subset0/1.3.6.1.4.1.14519.5.2.1.6279...  \n",
       "2    ./subset0/subset0/1.3.6.1.4.1.14519.5.2.1.6279...  \n",
       "3    ./subset0/subset0/1.3.6.1.4.1.14519.5.2.1.6279...  \n",
       "4    ./subset0/subset0/1.3.6.1.4.1.14519.5.2.1.6279...  \n",
       "..                                                 ...  \n",
       "440  ./subset4/subset4/1.3.6.1.4.1.14519.5.2.1.6279...  \n",
       "441  ./subset4/subset4/1.3.6.1.4.1.14519.5.2.1.6279...  \n",
       "442  ./subset4/subset4/1.3.6.1.4.1.14519.5.2.1.6279...  \n",
       "443  ./subset4/subset4/1.3.6.1.4.1.14519.5.2.1.6279...  \n",
       "444  ./subset4/subset4/1.3.6.1.4.1.14519.5.2.1.6279...  \n",
       "\n",
       "[445 rows x 2 columns]"
      ]
     },
     "execution_count": 104,
     "metadata": {},
     "output_type": "execute_result"
    }
   ],
   "source": [
    "df_path"
   ]
  },
  {
   "cell_type": "code",
   "execution_count": 105,
   "metadata": {},
   "outputs": [
    {
     "data": {
      "text/plain": [
       "'1.3.6.1.4.1.14519.5.2.1.6279.6001.105756658031515062000744821260'"
      ]
     },
     "execution_count": 105,
     "metadata": {},
     "output_type": "execute_result"
    }
   ],
   "source": [
    "df_path[\"seriesuid\"].tolist()[0]"
   ]
  },
  {
   "cell_type": "code",
   "execution_count": 106,
   "metadata": {},
   "outputs": [
    {
     "data": {
      "text/plain": [
       "'1.3.6.1.4.1.14519.5.2.1.6279.6001.100225287222365663678666836860'"
      ]
     },
     "execution_count": 106,
     "metadata": {},
     "output_type": "execute_result"
    }
   ],
   "source": [
    "df_candidates[\"seriesuid\"].tolist()[0]"
   ]
  },
  {
   "cell_type": "code",
   "execution_count": 107,
   "metadata": {},
   "outputs": [],
   "source": [
    "contains_annotation = [(x in df_annotation[\"seriesuid\"].tolist())\n",
    "                       for x in df_path[\"seriesuid\"].tolist()]"
   ]
  },
  {
   "cell_type": "code",
   "execution_count": 108,
   "metadata": {},
   "outputs": [
    {
     "data": {
      "text/plain": [
       "311"
      ]
     },
     "execution_count": 108,
     "metadata": {},
     "output_type": "execute_result"
    }
   ],
   "source": [
    "np.sum(contains_annotation)"
   ]
  },
  {
   "cell_type": "code",
   "execution_count": 109,
   "metadata": {},
   "outputs": [
    {
     "data": {
      "text/plain": [
       "445"
      ]
     },
     "execution_count": 109,
     "metadata": {},
     "output_type": "execute_result"
    }
   ],
   "source": [
    "len(contains_annotation)"
   ]
  },
  {
   "cell_type": "code",
   "execution_count": 110,
   "metadata": {},
   "outputs": [],
   "source": [
    "def xyz2irc(xyz_coord, xyz_origin, xyz_sizes, irc_transform_mat):\n",
    "    \"\"\"\n",
    "    Map the patient coordidates to the voxel-based coordinates through data included in the meta-data file of CT.\n",
    "\n",
    "    Parameters:\n",
    "        - xyz_coord (XYZ_tuple): the patient coordinates to be transformed.\n",
    "        - xyz_origin (XYZ_tuple): the exact origin point in the patient space for reference.\n",
    "        - xyz_sizes (XYZ_tuple): the voxel size for scaling purposes.\n",
    "        - irc_transform_mat (np.array): the transformation matrix between the two spaces.\n",
    "\n",
    "    return:\n",
    "        transformed coordinate as IRC_tuple\n",
    "    \"\"\"\n",
    "    coordinate_xyz = np.array(xyz_coord)\n",
    "    physical_origin = np.array(xyz_origin)\n",
    "    physical_sizes = np.array(xyz_sizes)\n",
    "    # reverse the computations\n",
    "    cri_coord = ((coordinate_xyz - physical_origin) @ np.linalg.inv(irc_transform_mat)) / physical_sizes\n",
    "    rounded_cri_coord = np.round(cri_coord).astype(int)\n",
    "    return rounded_cri_coord[::-1]"
   ]
  },
  {
   "cell_type": "code",
   "execution_count": 111,
   "metadata": {},
   "outputs": [
    {
     "name": "stdout",
     "output_type": "stream",
     "text": [
      "path: ./subset2/subset2/1.3.6.1.4.1.14519.5.2.1.6279.6001.100621383016233746780170740405.mhd\n",
      "(-120.049467, 9.48041606, -657.0)\n",
      "(0.556640625, 0.556640625, 1.0)\n"
     ]
    }
   ],
   "source": [
    "for i in range(len(df_annotation)):\n",
    "    item = df_annotation.iloc[i]\n",
    "\n",
    "    series_id, x, y, z, diameter = item\n",
    "\n",
    "    if not series_id in df_path[\"seriesuid\"].tolist():\n",
    "        continue\n",
    "\n",
    "    path = df_path.loc[df_path[\"seriesuid\"] == series_id][\"path\"].tolist()[0]\n",
    "\n",
    "    print(f\"path: {path}\")\n",
    "\n",
    "    ct_mhd = sitk.ReadImage(os.path.join(root, path))\n",
    "    ct_arr = np.array(sitk.GetArrayFromImage(ct_mhd),\n",
    "                      dtype=np.float32).clip(-600, 1500)\n",
    "\n",
    "    origin = ct_mhd.GetOrigin()\n",
    "    spacing = ct_mhd.GetSpacing()\n",
    "    transform_mat = np.array(ct_mhd.GetDirection()).reshape(3, 3)\n",
    "\n",
    "    irc = xyz2irc((x,  y, z), origin, spacing, transform_mat)\n",
    "\n",
    "    print(origin)\n",
    "    print(spacing)\n",
    "    break"
   ]
  },
  {
   "cell_type": "code",
   "execution_count": 112,
   "metadata": {},
   "outputs": [
    {
     "data": {
      "text/plain": [
       "array([266, 328, 173])"
      ]
     },
     "execution_count": 112,
     "metadata": {},
     "output_type": "execute_result"
    }
   ],
   "source": [
    "irc"
   ]
  },
  {
   "cell_type": "code",
   "execution_count": 113,
   "metadata": {},
   "outputs": [
    {
     "data": {
      "text/plain": [
       "8.143261683"
      ]
     },
     "execution_count": 113,
     "metadata": {},
     "output_type": "execute_result"
    }
   ],
   "source": [
    "diameter"
   ]
  },
  {
   "cell_type": "code",
   "execution_count": 114,
   "metadata": {},
   "outputs": [],
   "source": [
    "seg_file = os.path.join(root, \"seg-lungs-LUNA16\",\n",
    "                        \"seg-lungs-LUNA16\", f\"{series_id}.mhd\")\n",
    "\n",
    "seg = np.array(sitk.GetArrayFromImage(sitk.ReadImage(seg_file)))"
   ]
  },
  {
   "cell_type": "code",
   "execution_count": 116,
   "metadata": {},
   "outputs": [
    {
     "data": {
      "text/plain": [
       "(321, 512, 512)"
      ]
     },
     "execution_count": 116,
     "metadata": {},
     "output_type": "execute_result"
    }
   ],
   "source": [
    "seg.shape"
   ]
  },
  {
   "cell_type": "code",
   "execution_count": null,
   "metadata": {},
   "outputs": [],
   "source": []
  }
 ],
 "metadata": {
  "kernelspec": {
   "display_name": "mmoe",
   "language": "python",
   "name": "python3"
  },
  "language_info": {
   "codemirror_mode": {
    "name": "ipython",
    "version": 3
   },
   "file_extension": ".py",
   "mimetype": "text/x-python",
   "name": "python",
   "nbconvert_exporter": "python",
   "pygments_lexer": "ipython3",
   "version": "3.10.0"
  }
 },
 "nbformat": 4,
 "nbformat_minor": 2
}
