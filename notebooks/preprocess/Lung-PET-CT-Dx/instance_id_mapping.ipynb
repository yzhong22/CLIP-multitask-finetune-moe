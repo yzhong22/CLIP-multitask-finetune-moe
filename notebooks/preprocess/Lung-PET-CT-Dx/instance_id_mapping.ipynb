{
 "cells": [
  {
   "cell_type": "code",
   "execution_count": 42,
   "metadata": {},
   "outputs": [],
   "source": [
    "import os\n",
    "import glob\n",
    "from tqdm import tqdm\n",
    "import pydicom\n",
    "\n",
    "import pandas as pd\n",
    "import numpy as np"
   ]
  },
  {
   "cell_type": "code",
   "execution_count": 27,
   "metadata": {},
   "outputs": [],
   "source": [
    "root = \"/media/yesindeed/WD5T/data/Lung-PET-CT-Dx\"\n",
    "\n",
    "df_meta = pd.read_csv(os.path.join(root, \"manifest\", \"metadata.csv\"))"
   ]
  },
  {
   "cell_type": "code",
   "execution_count": 37,
   "metadata": {},
   "outputs": [],
   "source": [
    "all_annotation_files = glob.glob(os.path.join(root, \"Annotation/*/*.xml\"))\n",
    "all_annotation_files = [x.split(\"/\")[-1] for x in all_annotation_files]"
   ]
  },
  {
   "cell_type": "code",
   "execution_count": 43,
   "metadata": {},
   "outputs": [
    {
     "name": "stdout",
     "output_type": "stream",
     "text": [
      "31562\n",
      "31400\n"
     ]
    }
   ],
   "source": [
    "print(len(all_annotation_files))\n",
    "print(len(np.unique(all_annotation_files)))"
   ]
  },
  {
   "cell_type": "code",
   "execution_count": 66,
   "metadata": {},
   "outputs": [],
   "source": [
    "mapping = {\"path\": [], \"sop_id\": [], \"pos\": []}\n",
    "\n",
    "annotation_root = \"/media/yesindeed/WD5T/data/Lung-PET-CT-Dx/Annotation/A0002/\"\n",
    "\n",
    "case_path = \"Lung-PET-CT-Dx/Lung_Dx-A0002/04-25-2007-NA-ThoraxAThoraxRoutine Adult-34834/2.000000-ThoraxRoutine  8.0.0  B70f-62919\"\n",
    "\n",
    "for file in glob.glob(os.path.join(root, \"manifest\", case_path, \"*.dcm\")):\n",
    "    dicom = pydicom.dcmread(file)\n",
    "\n",
    "    id = dicom[0x0008, 0x0018].value\n",
    "\n",
    "    mapping[\"path\"].append(os.path.join(file.split(\"/\")[-2], file.split(\"/\")[-1]))\n",
    "    mapping[\"sop_id\"].append(id)\n",
    "\n",
    "    if os.path.exists(os.path.join(annotation_root, f\"{id}.xml\")):\n",
    "        # if f\"{id}.xml\" in all_annotation_files:\n",
    "        mapping[\"pos\"].append(\"Y\")\n",
    "    else:\n",
    "        mapping[\"pos\"].append(\"N\")\n",
    "\n",
    "    # break\n",
    "\n",
    "df_mapping_1 = pd.DataFrame.from_dict(mapping)"
   ]
  },
  {
   "cell_type": "code",
   "execution_count": 67,
   "metadata": {},
   "outputs": [],
   "source": [
    "case_path = \"Lung-PET-CT-Dx/Lung_Dx-A0002/04-25-2007-NA-ThoraxAThoraxRoutine Adult-34834/3.000000-ThoraxRoutine  8.0.0  B40f-10983\"\n",
    "\n",
    "mapping = {\"path\": [], \"sop_id\": [], \"pos\": []}\n",
    "\n",
    "for file in glob.glob(os.path.join(root, \"manifest\", case_path, \"*.dcm\")):\n",
    "    dicom = pydicom.dcmread(file)\n",
    "\n",
    "    id = dicom[0x0008, 0x0018].value\n",
    "\n",
    "    mapping[\"path\"].append(os.path.join(\n",
    "        file.split(\"/\")[-2], file.split(\"/\")[-1]))\n",
    "    mapping[\"sop_id\"].append(id)\n",
    "\n",
    "    if os.path.exists(os.path.join(annotation_root, f\"{id}.xml\")):\n",
    "        # if f\"{id}.xml\" in all_annotation_files:\n",
    "        mapping[\"pos\"].append(\"Y\")\n",
    "    else:\n",
    "        mapping[\"pos\"].append(\"N\")\n",
    "\n",
    "    # break\n",
    "\n",
    "df_mapping_2 = pd.DataFrame.from_dict(mapping)"
   ]
  },
  {
   "cell_type": "code",
   "execution_count": 68,
   "metadata": {},
   "outputs": [
    {
     "data": {
      "text/html": [
       "<div>\n",
       "<style scoped>\n",
       "    .dataframe tbody tr th:only-of-type {\n",
       "        vertical-align: middle;\n",
       "    }\n",
       "\n",
       "    .dataframe tbody tr th {\n",
       "        vertical-align: top;\n",
       "    }\n",
       "\n",
       "    .dataframe thead th {\n",
       "        text-align: right;\n",
       "    }\n",
       "</style>\n",
       "<table border=\"1\" class=\"dataframe\">\n",
       "  <thead>\n",
       "    <tr style=\"text-align: right;\">\n",
       "      <th></th>\n",
       "      <th>path</th>\n",
       "      <th>sop_id</th>\n",
       "      <th>pos</th>\n",
       "    </tr>\n",
       "  </thead>\n",
       "  <tbody>\n",
       "    <tr>\n",
       "      <th>10</th>\n",
       "      <td>2.000000-ThoraxRoutine  8.0.0  B70f-62919/1-11...</td>\n",
       "      <td>1.3.6.1.4.1.14519.5.2.1.6655.2359.173449310598...</td>\n",
       "      <td>Y</td>\n",
       "    </tr>\n",
       "    <tr>\n",
       "      <th>11</th>\n",
       "      <td>2.000000-ThoraxRoutine  8.0.0  B70f-62919/1-12...</td>\n",
       "      <td>1.3.6.1.4.1.14519.5.2.1.6655.2359.283973423081...</td>\n",
       "      <td>Y</td>\n",
       "    </tr>\n",
       "    <tr>\n",
       "      <th>12</th>\n",
       "      <td>2.000000-ThoraxRoutine  8.0.0  B70f-62919/1-13...</td>\n",
       "      <td>1.3.6.1.4.1.14519.5.2.1.6655.2359.251378513351...</td>\n",
       "      <td>Y</td>\n",
       "    </tr>\n",
       "    <tr>\n",
       "      <th>13</th>\n",
       "      <td>2.000000-ThoraxRoutine  8.0.0  B70f-62919/1-14...</td>\n",
       "      <td>1.3.6.1.4.1.14519.5.2.1.6655.2359.494618634856...</td>\n",
       "      <td>Y</td>\n",
       "    </tr>\n",
       "    <tr>\n",
       "      <th>14</th>\n",
       "      <td>2.000000-ThoraxRoutine  8.0.0  B70f-62919/1-15...</td>\n",
       "      <td>1.3.6.1.4.1.14519.5.2.1.6655.2359.124409970701...</td>\n",
       "      <td>Y</td>\n",
       "    </tr>\n",
       "    <tr>\n",
       "      <th>15</th>\n",
       "      <td>2.000000-ThoraxRoutine  8.0.0  B70f-62919/1-16...</td>\n",
       "      <td>1.3.6.1.4.1.14519.5.2.1.6655.2359.243795146036...</td>\n",
       "      <td>Y</td>\n",
       "    </tr>\n",
       "    <tr>\n",
       "      <th>16</th>\n",
       "      <td>2.000000-ThoraxRoutine  8.0.0  B70f-62919/1-17...</td>\n",
       "      <td>1.3.6.1.4.1.14519.5.2.1.6655.2359.430336102867...</td>\n",
       "      <td>Y</td>\n",
       "    </tr>\n",
       "    <tr>\n",
       "      <th>17</th>\n",
       "      <td>2.000000-ThoraxRoutine  8.0.0  B70f-62919/1-18...</td>\n",
       "      <td>1.3.6.1.4.1.14519.5.2.1.6655.2359.135914779559...</td>\n",
       "      <td>Y</td>\n",
       "    </tr>\n",
       "  </tbody>\n",
       "</table>\n",
       "</div>"
      ],
      "text/plain": [
       "                                                 path  \\\n",
       "10  2.000000-ThoraxRoutine  8.0.0  B70f-62919/1-11...   \n",
       "11  2.000000-ThoraxRoutine  8.0.0  B70f-62919/1-12...   \n",
       "12  2.000000-ThoraxRoutine  8.0.0  B70f-62919/1-13...   \n",
       "13  2.000000-ThoraxRoutine  8.0.0  B70f-62919/1-14...   \n",
       "14  2.000000-ThoraxRoutine  8.0.0  B70f-62919/1-15...   \n",
       "15  2.000000-ThoraxRoutine  8.0.0  B70f-62919/1-16...   \n",
       "16  2.000000-ThoraxRoutine  8.0.0  B70f-62919/1-17...   \n",
       "17  2.000000-ThoraxRoutine  8.0.0  B70f-62919/1-18...   \n",
       "\n",
       "                                               sop_id pos  \n",
       "10  1.3.6.1.4.1.14519.5.2.1.6655.2359.173449310598...   Y  \n",
       "11  1.3.6.1.4.1.14519.5.2.1.6655.2359.283973423081...   Y  \n",
       "12  1.3.6.1.4.1.14519.5.2.1.6655.2359.251378513351...   Y  \n",
       "13  1.3.6.1.4.1.14519.5.2.1.6655.2359.494618634856...   Y  \n",
       "14  1.3.6.1.4.1.14519.5.2.1.6655.2359.124409970701...   Y  \n",
       "15  1.3.6.1.4.1.14519.5.2.1.6655.2359.243795146036...   Y  \n",
       "16  1.3.6.1.4.1.14519.5.2.1.6655.2359.430336102867...   Y  \n",
       "17  1.3.6.1.4.1.14519.5.2.1.6655.2359.135914779559...   Y  "
      ]
     },
     "execution_count": 68,
     "metadata": {},
     "output_type": "execute_result"
    }
   ],
   "source": [
    "df_mapping_1.loc[df_mapping_1[\"pos\"] == \"Y\"]"
   ]
  },
  {
   "cell_type": "code",
   "execution_count": 69,
   "metadata": {},
   "outputs": [
    {
     "data": {
      "text/html": [
       "<div>\n",
       "<style scoped>\n",
       "    .dataframe tbody tr th:only-of-type {\n",
       "        vertical-align: middle;\n",
       "    }\n",
       "\n",
       "    .dataframe tbody tr th {\n",
       "        vertical-align: top;\n",
       "    }\n",
       "\n",
       "    .dataframe thead th {\n",
       "        text-align: right;\n",
       "    }\n",
       "</style>\n",
       "<table border=\"1\" class=\"dataframe\">\n",
       "  <thead>\n",
       "    <tr style=\"text-align: right;\">\n",
       "      <th></th>\n",
       "      <th>path</th>\n",
       "      <th>sop_id</th>\n",
       "      <th>pos</th>\n",
       "    </tr>\n",
       "  </thead>\n",
       "  <tbody>\n",
       "    <tr>\n",
       "      <th>8</th>\n",
       "      <td>3.000000-ThoraxRoutine  8.0.0  B40f-10983/1-09...</td>\n",
       "      <td>1.3.6.1.4.1.14519.5.2.1.6655.2359.191960383852...</td>\n",
       "      <td>Y</td>\n",
       "    </tr>\n",
       "    <tr>\n",
       "      <th>9</th>\n",
       "      <td>3.000000-ThoraxRoutine  8.0.0  B40f-10983/1-10...</td>\n",
       "      <td>1.3.6.1.4.1.14519.5.2.1.6655.2359.323570046735...</td>\n",
       "      <td>Y</td>\n",
       "    </tr>\n",
       "    <tr>\n",
       "      <th>10</th>\n",
       "      <td>3.000000-ThoraxRoutine  8.0.0  B40f-10983/1-11...</td>\n",
       "      <td>1.3.6.1.4.1.14519.5.2.1.6655.2359.145636676081...</td>\n",
       "      <td>Y</td>\n",
       "    </tr>\n",
       "    <tr>\n",
       "      <th>11</th>\n",
       "      <td>3.000000-ThoraxRoutine  8.0.0  B40f-10983/1-12...</td>\n",
       "      <td>1.3.6.1.4.1.14519.5.2.1.6655.2359.326556466222...</td>\n",
       "      <td>Y</td>\n",
       "    </tr>\n",
       "    <tr>\n",
       "      <th>12</th>\n",
       "      <td>3.000000-ThoraxRoutine  8.0.0  B40f-10983/1-13...</td>\n",
       "      <td>1.3.6.1.4.1.14519.5.2.1.6655.2359.234210370365...</td>\n",
       "      <td>Y</td>\n",
       "    </tr>\n",
       "    <tr>\n",
       "      <th>13</th>\n",
       "      <td>3.000000-ThoraxRoutine  8.0.0  B40f-10983/1-14...</td>\n",
       "      <td>1.3.6.1.4.1.14519.5.2.1.6655.2359.143229220134...</td>\n",
       "      <td>Y</td>\n",
       "    </tr>\n",
       "    <tr>\n",
       "      <th>14</th>\n",
       "      <td>3.000000-ThoraxRoutine  8.0.0  B40f-10983/1-15...</td>\n",
       "      <td>1.3.6.1.4.1.14519.5.2.1.6655.2359.225810647627...</td>\n",
       "      <td>Y</td>\n",
       "    </tr>\n",
       "    <tr>\n",
       "      <th>15</th>\n",
       "      <td>3.000000-ThoraxRoutine  8.0.0  B40f-10983/1-16...</td>\n",
       "      <td>1.3.6.1.4.1.14519.5.2.1.6655.2359.174269535156...</td>\n",
       "      <td>Y</td>\n",
       "    </tr>\n",
       "    <tr>\n",
       "      <th>16</th>\n",
       "      <td>3.000000-ThoraxRoutine  8.0.0  B40f-10983/1-17...</td>\n",
       "      <td>1.3.6.1.4.1.14519.5.2.1.6655.2359.122259036515...</td>\n",
       "      <td>Y</td>\n",
       "    </tr>\n",
       "    <tr>\n",
       "      <th>17</th>\n",
       "      <td>3.000000-ThoraxRoutine  8.0.0  B40f-10983/1-18...</td>\n",
       "      <td>1.3.6.1.4.1.14519.5.2.1.6655.2359.476982701137...</td>\n",
       "      <td>Y</td>\n",
       "    </tr>\n",
       "  </tbody>\n",
       "</table>\n",
       "</div>"
      ],
      "text/plain": [
       "                                                 path  \\\n",
       "8   3.000000-ThoraxRoutine  8.0.0  B40f-10983/1-09...   \n",
       "9   3.000000-ThoraxRoutine  8.0.0  B40f-10983/1-10...   \n",
       "10  3.000000-ThoraxRoutine  8.0.0  B40f-10983/1-11...   \n",
       "11  3.000000-ThoraxRoutine  8.0.0  B40f-10983/1-12...   \n",
       "12  3.000000-ThoraxRoutine  8.0.0  B40f-10983/1-13...   \n",
       "13  3.000000-ThoraxRoutine  8.0.0  B40f-10983/1-14...   \n",
       "14  3.000000-ThoraxRoutine  8.0.0  B40f-10983/1-15...   \n",
       "15  3.000000-ThoraxRoutine  8.0.0  B40f-10983/1-16...   \n",
       "16  3.000000-ThoraxRoutine  8.0.0  B40f-10983/1-17...   \n",
       "17  3.000000-ThoraxRoutine  8.0.0  B40f-10983/1-18...   \n",
       "\n",
       "                                               sop_id pos  \n",
       "8   1.3.6.1.4.1.14519.5.2.1.6655.2359.191960383852...   Y  \n",
       "9   1.3.6.1.4.1.14519.5.2.1.6655.2359.323570046735...   Y  \n",
       "10  1.3.6.1.4.1.14519.5.2.1.6655.2359.145636676081...   Y  \n",
       "11  1.3.6.1.4.1.14519.5.2.1.6655.2359.326556466222...   Y  \n",
       "12  1.3.6.1.4.1.14519.5.2.1.6655.2359.234210370365...   Y  \n",
       "13  1.3.6.1.4.1.14519.5.2.1.6655.2359.143229220134...   Y  \n",
       "14  1.3.6.1.4.1.14519.5.2.1.6655.2359.225810647627...   Y  \n",
       "15  1.3.6.1.4.1.14519.5.2.1.6655.2359.174269535156...   Y  \n",
       "16  1.3.6.1.4.1.14519.5.2.1.6655.2359.122259036515...   Y  \n",
       "17  1.3.6.1.4.1.14519.5.2.1.6655.2359.476982701137...   Y  "
      ]
     },
     "execution_count": 69,
     "metadata": {},
     "output_type": "execute_result"
    }
   ],
   "source": [
    "df_mapping_2.loc[df_mapping_2[\"pos\"] == \"Y\"]"
   ]
  },
  {
   "cell_type": "code",
   "execution_count": 35,
   "metadata": {},
   "outputs": [
    {
     "data": {
      "text/plain": [
       "58"
      ]
     },
     "execution_count": 35,
     "metadata": {},
     "output_type": "execute_result"
    }
   ],
   "source": [
    "len(df_mapping[\"sop_id\"].unique())"
   ]
  },
  {
   "cell_type": "code",
   "execution_count": null,
   "metadata": {},
   "outputs": [],
   "source": []
  }
 ],
 "metadata": {
  "kernelspec": {
   "display_name": "mmoe",
   "language": "python",
   "name": "python3"
  },
  "language_info": {
   "codemirror_mode": {
    "name": "ipython",
    "version": 3
   },
   "file_extension": ".py",
   "mimetype": "text/x-python",
   "name": "python",
   "nbconvert_exporter": "python",
   "pygments_lexer": "ipython3",
   "version": "3.10.0"
  }
 },
 "nbformat": 4,
 "nbformat_minor": 2
}
