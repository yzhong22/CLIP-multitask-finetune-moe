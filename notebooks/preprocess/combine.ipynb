{
 "cells": [
  {
   "cell_type": "code",
   "execution_count": 1,
   "metadata": {},
   "outputs": [],
   "source": [
    "import os\n",
    "import glob\n",
    "from tqdm import tqdm\n",
    "\n",
    "import pandas as pd"
   ]
  },
  {
   "cell_type": "code",
   "execution_count": 6,
   "metadata": {},
   "outputs": [],
   "source": [
    "root = \"/media/yesindeed/DATADRIVE1/mount/remote_cse/datasets/multitask-moe/\""
   ]
  },
  {
   "cell_type": "code",
   "execution_count": 17,
   "metadata": {},
   "outputs": [
    {
     "name": "stderr",
     "output_type": "stream",
     "text": [
      "  0%|          | 0/7 [00:00<?, ?it/s]"
     ]
    },
    {
     "name": "stdout",
     "output_type": "stream",
     "text": [
      "rsna-str-pulmonary-embolism-detection: 1790594\n"
     ]
    },
    {
     "name": "stderr",
     "output_type": "stream",
     "text": [
      " 14%|█▍        | 1/7 [00:08<00:48,  8.05s/it]"
     ]
    },
    {
     "name": "stdout",
     "output_type": "stream",
     "text": [
      "siim-covid19-detection: 6334\n"
     ]
    },
    {
     "name": "stderr",
     "output_type": "stream",
     "text": [
      " 43%|████▎     | 3/7 [00:08<00:09,  2.38s/it]"
     ]
    },
    {
     "name": "stdout",
     "output_type": "stream",
     "text": [
      "CheXpert-v1.0-small: 188140\n",
      "mimic-cxr-jpg: 320912\n"
     ]
    },
    {
     "name": "stderr",
     "output_type": "stream",
     "text": [
      " 57%|█████▋    | 4/7 [00:10<00:06,  2.07s/it]"
     ]
    },
    {
     "name": "stdout",
     "output_type": "stream",
     "text": [
      "CC-CCII: 411529\n"
     ]
    },
    {
     "name": "stderr",
     "output_type": "stream",
     "text": [
      " 71%|███████▏  | 5/7 [00:11<00:03,  1.81s/it]"
     ]
    },
    {
     "name": "stdout",
     "output_type": "stream",
     "text": [
      "Lung-PET-CT-Dx: 204836\n"
     ]
    },
    {
     "name": "stderr",
     "output_type": "stream",
     "text": [
      "100%|██████████| 7/7 [00:12<00:00,  1.82s/it]\n"
     ]
    },
    {
     "name": "stdout",
     "output_type": "stream",
     "text": [
      "vinbigdata-chest-xray-abnormalities-detection: 15000\n"
     ]
    }
   ],
   "source": [
    "df_l = []\n",
    "\n",
    "for file in tqdm(glob.glob(os.path.join(root, \"*\", \"metadata.csv\"))):\n",
    "    dataset_folder = file.split(\"/\")[-2]\n",
    "    df = pd.read_csv(file)\n",
    "    print(f\"{dataset_folder}: {len(df)}\")\n",
    "\n",
    "    if dataset_folder == \"rsna-str-pulmonary-embolism-detection\":\n",
    "        df[\"path\"] = df[\"path\"].apply(\n",
    "            lambda x: x.replace(\"/train/\", \"/train-png/\"))\n",
    "        df[\"path\"] = df[\"path\"].apply(\n",
    "            lambda x: x.replace(\"/test/\", \"/test-png/\"))\n",
    "        df[\"path\"] = df[\"path\"].apply(lambda x: x.replace(\".dcm\", \".png\"))\n",
    "    # if dataset_folder == \"siim-covid19-detection\":\n",
    "    #     df[\"class\"] = df[\"class\"].apply(lambda x: x).replace(\"typical appearance pneumonia\", \"pneumonia\")\n",
    "    #     df[\"class\"] = df[\"class\"].apply(lambda x: x).replace(\"indeterminate appearance pneumonia\", \"pneumonia\")\n",
    "    #     df[\"class\"] = df[\"class\"].apply(lambda x: x).replace(\"atypical appearance pneumonia\", \"pneumonia\")\n",
    "    #     df[\"split\"] = \"test\"\n",
    "\n",
    "    df[\"path\"] = df[\"path\"].apply(lambda x: os.path.join(\n",
    "        dataset_folder, x.replace(\"./\", \"\")))\n",
    "\n",
    "    df_l.append(df)\n",
    "\n",
    "df_combined = pd.concat(df_l, ignore_index=True, sort=False)"
   ]
  },
  {
   "cell_type": "code",
   "execution_count": 8,
   "metadata": {},
   "outputs": [
    {
     "data": {
      "text/plain": [
       "0          rsna-str-pulmonary-embolism-detection/train-pn...\n",
       "1          rsna-str-pulmonary-embolism-detection/train-pn...\n",
       "2          rsna-str-pulmonary-embolism-detection/train-pn...\n",
       "3          rsna-str-pulmonary-embolism-detection/train-pn...\n",
       "4          rsna-str-pulmonary-embolism-detection/train-pn...\n",
       "                                 ...                        \n",
       "2937340    vinbigdata-chest-xray-abnormalities-detection/...\n",
       "2937341    vinbigdata-chest-xray-abnormalities-detection/...\n",
       "2937342    vinbigdata-chest-xray-abnormalities-detection/...\n",
       "2937343    vinbigdata-chest-xray-abnormalities-detection/...\n",
       "2937344    vinbigdata-chest-xray-abnormalities-detection/...\n",
       "Name: path, Length: 2937345, dtype: object"
      ]
     },
     "execution_count": 8,
     "metadata": {},
     "output_type": "execute_result"
    }
   ],
   "source": [
    "df_combined[\"path\"]"
   ]
  },
  {
   "cell_type": "markdown",
   "metadata": {},
   "source": [
    "Check the existance of every image file"
   ]
  },
  {
   "cell_type": "code",
   "execution_count": 10,
   "metadata": {},
   "outputs": [],
   "source": [
    "df_combined.to_csv(os.path.join(root, \"metadata.csv\"), index=False)"
   ]
  },
  {
   "cell_type": "code",
   "execution_count": 11,
   "metadata": {},
   "outputs": [
    {
     "data": {
      "text/plain": [
       "{'rsna-pulmonary-embolism': 1790594,\n",
       " 'CC-CCII': 411529,\n",
       " 'mimic-cxr': 320912,\n",
       " 'lung-pet-ct-dx': 204836,\n",
       " 'chexpert': 188140,\n",
       " 'vinbigdata-cxr': 15000,\n",
       " 'ssim-covid19': 6334}"
      ]
     },
     "execution_count": 11,
     "metadata": {},
     "output_type": "execute_result"
    }
   ],
   "source": [
    "dict(df_combined[\"dataset\"].value_counts())"
   ]
  },
  {
   "cell_type": "code",
   "execution_count": 18,
   "metadata": {},
   "outputs": [
    {
     "data": {
      "text/plain": [
       "{'no findings': 2399485,\n",
       " 'pulmonary embolism': 96540,\n",
       " 'typical appearance pneumonia': 39901,\n",
       " 'indeterminate appearance pneumonia': 1108,\n",
       " 'atypical appearance pneumonia': 22355,\n",
       " 'cardiomegaly': 93646,\n",
       " 'pleural effusion': 164176,\n",
       " 'atelectasis': 147884,\n",
       " 'edema': 121203,\n",
       " 'consolidation': 29811,\n",
       " 'pneumothorax': 33801,\n",
       " 'adenocarcinoma': 19927,\n",
       " 'squamous cell carcinoma': 7081,\n",
       " 'small cell carcinoma': 3034,\n",
       " 'large cell carcinoma': 201,\n",
       " 'pleural thickening': 1981,\n",
       " 'aortic enlargement': 3067,\n",
       " 'pulmonary fibrosis': 1617,\n",
       " 'ild': 386,\n",
       " 'nodule/mass': 826,\n",
       " 'other lesion': 1134,\n",
       " 'lung opacity': 1322,\n",
       " 'infiltration': 613,\n",
       " 'calcification': 452}"
      ]
     },
     "execution_count": 18,
     "metadata": {},
     "output_type": "execute_result"
    }
   ],
   "source": [
    "classes = dict()\n",
    "\n",
    "for cls in df_combined[\"class\"].tolist():\n",
    "    for x in cls.split(\",\"):\n",
    "        x = x.strip()\n",
    "        if x not in classes.keys():\n",
    "            classes[x] = 1\n",
    "        else:\n",
    "            classes[x] += 1\n",
    "\n",
    "classes"
   ]
  },
  {
   "cell_type": "code",
   "execution_count": 5,
   "metadata": {},
   "outputs": [],
   "source": [
    "df = pd.read_csv(os.path.join(root, \"metadata_v1.csv\"))"
   ]
  },
  {
   "cell_type": "code",
   "execution_count": 7,
   "metadata": {},
   "outputs": [
    {
     "data": {
      "text/html": [
       "<div>\n",
       "<style scoped>\n",
       "    .dataframe tbody tr th:only-of-type {\n",
       "        vertical-align: middle;\n",
       "    }\n",
       "\n",
       "    .dataframe tbody tr th {\n",
       "        vertical-align: top;\n",
       "    }\n",
       "\n",
       "    .dataframe thead th {\n",
       "        text-align: right;\n",
       "    }\n",
       "</style>\n",
       "<table border=\"1\" class=\"dataframe\">\n",
       "  <thead>\n",
       "    <tr style=\"text-align: right;\">\n",
       "      <th></th>\n",
       "      <th>id</th>\n",
       "      <th>exam_id</th>\n",
       "      <th>path</th>\n",
       "      <th>class</th>\n",
       "      <th>exam_class</th>\n",
       "      <th>dataset</th>\n",
       "      <th>class_num</th>\n",
       "      <th>contains_negative</th>\n",
       "      <th>modality</th>\n",
       "      <th>split</th>\n",
       "    </tr>\n",
       "  </thead>\n",
       "  <tbody>\n",
       "    <tr>\n",
       "      <th>0</th>\n",
       "      <td>8cac6d50ca40/3201d1c46942/0640afc508cf</td>\n",
       "      <td>8cac6d50ca40/3201d1c46942</td>\n",
       "      <td>rsna-str-pulmonary-embolism-detection/train-pn...</td>\n",
       "      <td>no findings</td>\n",
       "      <td>no findings</td>\n",
       "      <td>rsna-pulmonary-embolism</td>\n",
       "      <td>2</td>\n",
       "      <td>1</td>\n",
       "      <td>ct</td>\n",
       "      <td>train</td>\n",
       "    </tr>\n",
       "    <tr>\n",
       "      <th>1</th>\n",
       "      <td>eb026d364980/ae8d98f4080a/28039e2a8eb8</td>\n",
       "      <td>eb026d364980/ae8d98f4080a</td>\n",
       "      <td>rsna-str-pulmonary-embolism-detection/train-pn...</td>\n",
       "      <td>no findings</td>\n",
       "      <td>no findings</td>\n",
       "      <td>rsna-pulmonary-embolism</td>\n",
       "      <td>2</td>\n",
       "      <td>1</td>\n",
       "      <td>ct</td>\n",
       "      <td>train</td>\n",
       "    </tr>\n",
       "    <tr>\n",
       "      <th>2</th>\n",
       "      <td>848ecdaf1c61/aeebe4cac843/af90dc5c53eb</td>\n",
       "      <td>848ecdaf1c61/aeebe4cac843</td>\n",
       "      <td>rsna-str-pulmonary-embolism-detection/train-pn...</td>\n",
       "      <td>no findings</td>\n",
       "      <td>no findings</td>\n",
       "      <td>rsna-pulmonary-embolism</td>\n",
       "      <td>2</td>\n",
       "      <td>1</td>\n",
       "      <td>ct</td>\n",
       "      <td>train</td>\n",
       "    </tr>\n",
       "    <tr>\n",
       "      <th>3</th>\n",
       "      <td>1a59a1ce6905/100a8d863273/73ef1600bbea</td>\n",
       "      <td>1a59a1ce6905/100a8d863273</td>\n",
       "      <td>rsna-str-pulmonary-embolism-detection/train-pn...</td>\n",
       "      <td>no findings</td>\n",
       "      <td>no findings</td>\n",
       "      <td>rsna-pulmonary-embolism</td>\n",
       "      <td>2</td>\n",
       "      <td>1</td>\n",
       "      <td>ct</td>\n",
       "      <td>train</td>\n",
       "    </tr>\n",
       "    <tr>\n",
       "      <th>4</th>\n",
       "      <td>86bbf267dba4/dd6208d6960e/0095dd4dd748</td>\n",
       "      <td>86bbf267dba4/dd6208d6960e</td>\n",
       "      <td>rsna-str-pulmonary-embolism-detection/train-pn...</td>\n",
       "      <td>no findings</td>\n",
       "      <td>no findings</td>\n",
       "      <td>rsna-pulmonary-embolism</td>\n",
       "      <td>2</td>\n",
       "      <td>1</td>\n",
       "      <td>ct</td>\n",
       "      <td>train</td>\n",
       "    </tr>\n",
       "    <tr>\n",
       "      <th>...</th>\n",
       "      <td>...</td>\n",
       "      <td>...</td>\n",
       "      <td>...</td>\n",
       "      <td>...</td>\n",
       "      <td>...</td>\n",
       "      <td>...</td>\n",
       "      <td>...</td>\n",
       "      <td>...</td>\n",
       "      <td>...</td>\n",
       "      <td>...</td>\n",
       "    </tr>\n",
       "    <tr>\n",
       "      <th>3186683</th>\n",
       "      <td>1.3.6.1.4.1.14519.5.2.1.6655.2359.433326537115...</td>\n",
       "      <td>1.3.6.1.4.1.14519.5.2.1.6655.2359.220574572626...</td>\n",
       "      <td>Lung-PET-CT-Dx/manifest/Lung-PET-CT-Dx/Lung_Dx...</td>\n",
       "      <td>no findings</td>\n",
       "      <td>no findings</td>\n",
       "      <td>lung-pet-ct-dx</td>\n",
       "      <td>4</td>\n",
       "      <td>1</td>\n",
       "      <td>ct</td>\n",
       "      <td>test</td>\n",
       "    </tr>\n",
       "    <tr>\n",
       "      <th>3186684</th>\n",
       "      <td>1.3.6.1.4.1.14519.5.2.1.6655.2359.143205918693...</td>\n",
       "      <td>1.3.6.1.4.1.14519.5.2.1.6655.2359.261661225897...</td>\n",
       "      <td>Lung-PET-CT-Dx/manifest/Lung-PET-CT-Dx/Lung_Dx...</td>\n",
       "      <td>no findings</td>\n",
       "      <td>no findings</td>\n",
       "      <td>lung-pet-ct-dx</td>\n",
       "      <td>4</td>\n",
       "      <td>1</td>\n",
       "      <td>ct</td>\n",
       "      <td>train</td>\n",
       "    </tr>\n",
       "    <tr>\n",
       "      <th>3186685</th>\n",
       "      <td>1.3.6.1.4.1.14519.5.2.1.6655.2359.138418961766...</td>\n",
       "      <td>1.3.6.1.4.1.14519.5.2.1.6655.2359.271888981993...</td>\n",
       "      <td>Lung-PET-CT-Dx/manifest/Lung-PET-CT-Dx/Lung_Dx...</td>\n",
       "      <td>no findings</td>\n",
       "      <td>no findings</td>\n",
       "      <td>lung-pet-ct-dx</td>\n",
       "      <td>4</td>\n",
       "      <td>1</td>\n",
       "      <td>ct</td>\n",
       "      <td>train</td>\n",
       "    </tr>\n",
       "    <tr>\n",
       "      <th>3186686</th>\n",
       "      <td>1.3.6.1.4.1.14519.5.2.1.6655.2359.169684324288...</td>\n",
       "      <td>1.3.6.1.4.1.14519.5.2.1.6655.2359.506152635744...</td>\n",
       "      <td>Lung-PET-CT-Dx/manifest/Lung-PET-CT-Dx/Lung_Dx...</td>\n",
       "      <td>no findings</td>\n",
       "      <td>no findings</td>\n",
       "      <td>lung-pet-ct-dx</td>\n",
       "      <td>4</td>\n",
       "      <td>1</td>\n",
       "      <td>ct</td>\n",
       "      <td>train</td>\n",
       "    </tr>\n",
       "    <tr>\n",
       "      <th>3186687</th>\n",
       "      <td>1.3.6.1.4.1.14519.5.2.1.6655.2359.621877731670...</td>\n",
       "      <td>1.3.6.1.4.1.14519.5.2.1.6655.2359.298012089528...</td>\n",
       "      <td>Lung-PET-CT-Dx/manifest/Lung-PET-CT-Dx/Lung_Dx...</td>\n",
       "      <td>no findings</td>\n",
       "      <td>no findings</td>\n",
       "      <td>lung-pet-ct-dx</td>\n",
       "      <td>4</td>\n",
       "      <td>1</td>\n",
       "      <td>ct</td>\n",
       "      <td>train</td>\n",
       "    </tr>\n",
       "  </tbody>\n",
       "</table>\n",
       "<p>3052402 rows × 10 columns</p>\n",
       "</div>"
      ],
      "text/plain": [
       "                                                        id  \\\n",
       "0                   8cac6d50ca40/3201d1c46942/0640afc508cf   \n",
       "1                   eb026d364980/ae8d98f4080a/28039e2a8eb8   \n",
       "2                   848ecdaf1c61/aeebe4cac843/af90dc5c53eb   \n",
       "3                   1a59a1ce6905/100a8d863273/73ef1600bbea   \n",
       "4                   86bbf267dba4/dd6208d6960e/0095dd4dd748   \n",
       "...                                                    ...   \n",
       "3186683  1.3.6.1.4.1.14519.5.2.1.6655.2359.433326537115...   \n",
       "3186684  1.3.6.1.4.1.14519.5.2.1.6655.2359.143205918693...   \n",
       "3186685  1.3.6.1.4.1.14519.5.2.1.6655.2359.138418961766...   \n",
       "3186686  1.3.6.1.4.1.14519.5.2.1.6655.2359.169684324288...   \n",
       "3186687  1.3.6.1.4.1.14519.5.2.1.6655.2359.621877731670...   \n",
       "\n",
       "                                                   exam_id  \\\n",
       "0                                8cac6d50ca40/3201d1c46942   \n",
       "1                                eb026d364980/ae8d98f4080a   \n",
       "2                                848ecdaf1c61/aeebe4cac843   \n",
       "3                                1a59a1ce6905/100a8d863273   \n",
       "4                                86bbf267dba4/dd6208d6960e   \n",
       "...                                                    ...   \n",
       "3186683  1.3.6.1.4.1.14519.5.2.1.6655.2359.220574572626...   \n",
       "3186684  1.3.6.1.4.1.14519.5.2.1.6655.2359.261661225897...   \n",
       "3186685  1.3.6.1.4.1.14519.5.2.1.6655.2359.271888981993...   \n",
       "3186686  1.3.6.1.4.1.14519.5.2.1.6655.2359.506152635744...   \n",
       "3186687  1.3.6.1.4.1.14519.5.2.1.6655.2359.298012089528...   \n",
       "\n",
       "                                                      path        class  \\\n",
       "0        rsna-str-pulmonary-embolism-detection/train-pn...  no findings   \n",
       "1        rsna-str-pulmonary-embolism-detection/train-pn...  no findings   \n",
       "2        rsna-str-pulmonary-embolism-detection/train-pn...  no findings   \n",
       "3        rsna-str-pulmonary-embolism-detection/train-pn...  no findings   \n",
       "4        rsna-str-pulmonary-embolism-detection/train-pn...  no findings   \n",
       "...                                                    ...          ...   \n",
       "3186683  Lung-PET-CT-Dx/manifest/Lung-PET-CT-Dx/Lung_Dx...  no findings   \n",
       "3186684  Lung-PET-CT-Dx/manifest/Lung-PET-CT-Dx/Lung_Dx...  no findings   \n",
       "3186685  Lung-PET-CT-Dx/manifest/Lung-PET-CT-Dx/Lung_Dx...  no findings   \n",
       "3186686  Lung-PET-CT-Dx/manifest/Lung-PET-CT-Dx/Lung_Dx...  no findings   \n",
       "3186687  Lung-PET-CT-Dx/manifest/Lung-PET-CT-Dx/Lung_Dx...  no findings   \n",
       "\n",
       "          exam_class                  dataset  class_num  contains_negative  \\\n",
       "0        no findings  rsna-pulmonary-embolism          2                  1   \n",
       "1        no findings  rsna-pulmonary-embolism          2                  1   \n",
       "2        no findings  rsna-pulmonary-embolism          2                  1   \n",
       "3        no findings  rsna-pulmonary-embolism          2                  1   \n",
       "4        no findings  rsna-pulmonary-embolism          2                  1   \n",
       "...              ...                      ...        ...                ...   \n",
       "3186683  no findings           lung-pet-ct-dx          4                  1   \n",
       "3186684  no findings           lung-pet-ct-dx          4                  1   \n",
       "3186685  no findings           lung-pet-ct-dx          4                  1   \n",
       "3186686  no findings           lung-pet-ct-dx          4                  1   \n",
       "3186687  no findings           lung-pet-ct-dx          4                  1   \n",
       "\n",
       "        modality  split  \n",
       "0             ct  train  \n",
       "1             ct  train  \n",
       "2             ct  train  \n",
       "3             ct  train  \n",
       "4             ct  train  \n",
       "...          ...    ...  \n",
       "3186683       ct   test  \n",
       "3186684       ct  train  \n",
       "3186685       ct  train  \n",
       "3186686       ct  train  \n",
       "3186687       ct  train  \n",
       "\n",
       "[3052402 rows x 10 columns]"
      ]
     },
     "execution_count": 7,
     "metadata": {},
     "output_type": "execute_result"
    }
   ],
   "source": [
    "df_combined.drop_duplicates(subset=[\"id\", \"class\"])"
   ]
  },
  {
   "cell_type": "code",
   "execution_count": null,
   "metadata": {},
   "outputs": [],
   "source": []
  }
 ],
 "metadata": {
  "kernelspec": {
   "display_name": "mmoe",
   "language": "python",
   "name": "python3"
  },
  "language_info": {
   "codemirror_mode": {
    "name": "ipython",
    "version": 3
   },
   "file_extension": ".py",
   "mimetype": "text/x-python",
   "name": "python",
   "nbconvert_exporter": "python",
   "pygments_lexer": "ipython3",
   "version": "3.10.0"
  }
 },
 "nbformat": 4,
 "nbformat_minor": 2
}
