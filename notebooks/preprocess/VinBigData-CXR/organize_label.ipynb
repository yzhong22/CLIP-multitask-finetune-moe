{
 "cells": [
  {
   "cell_type": "code",
   "execution_count": 1,
   "metadata": {},
   "outputs": [],
   "source": [
    "import os\n",
    "import glob\n",
    "from tqdm import tqdm\n",
    "\n",
    "import pandas as pd"
   ]
  },
  {
   "cell_type": "code",
   "execution_count": 2,
   "metadata": {},
   "outputs": [
    {
     "data": {
      "text/html": [
       "<div>\n",
       "<style scoped>\n",
       "    .dataframe tbody tr th:only-of-type {\n",
       "        vertical-align: middle;\n",
       "    }\n",
       "\n",
       "    .dataframe tbody tr th {\n",
       "        vertical-align: top;\n",
       "    }\n",
       "\n",
       "    .dataframe thead th {\n",
       "        text-align: right;\n",
       "    }\n",
       "</style>\n",
       "<table border=\"1\" class=\"dataframe\">\n",
       "  <thead>\n",
       "    <tr style=\"text-align: right;\">\n",
       "      <th></th>\n",
       "      <th>image_id</th>\n",
       "      <th>class_name</th>\n",
       "      <th>class_id</th>\n",
       "      <th>rad_id</th>\n",
       "      <th>x_min</th>\n",
       "      <th>y_min</th>\n",
       "      <th>x_max</th>\n",
       "      <th>y_max</th>\n",
       "    </tr>\n",
       "  </thead>\n",
       "  <tbody>\n",
       "    <tr>\n",
       "      <th>0</th>\n",
       "      <td>50a418190bc3fb1ef1633bf9678929b3</td>\n",
       "      <td>No finding</td>\n",
       "      <td>14</td>\n",
       "      <td>R11</td>\n",
       "      <td>NaN</td>\n",
       "      <td>NaN</td>\n",
       "      <td>NaN</td>\n",
       "      <td>NaN</td>\n",
       "    </tr>\n",
       "    <tr>\n",
       "      <th>1</th>\n",
       "      <td>21a10246a5ec7af151081d0cd6d65dc9</td>\n",
       "      <td>No finding</td>\n",
       "      <td>14</td>\n",
       "      <td>R7</td>\n",
       "      <td>NaN</td>\n",
       "      <td>NaN</td>\n",
       "      <td>NaN</td>\n",
       "      <td>NaN</td>\n",
       "    </tr>\n",
       "    <tr>\n",
       "      <th>2</th>\n",
       "      <td>9a5094b2563a1ef3ff50dc5c7ff71345</td>\n",
       "      <td>Cardiomegaly</td>\n",
       "      <td>3</td>\n",
       "      <td>R10</td>\n",
       "      <td>691.0</td>\n",
       "      <td>1375.0</td>\n",
       "      <td>1653.0</td>\n",
       "      <td>1831.0</td>\n",
       "    </tr>\n",
       "    <tr>\n",
       "      <th>3</th>\n",
       "      <td>051132a778e61a86eb147c7c6f564dfe</td>\n",
       "      <td>Aortic enlargement</td>\n",
       "      <td>0</td>\n",
       "      <td>R10</td>\n",
       "      <td>1264.0</td>\n",
       "      <td>743.0</td>\n",
       "      <td>1611.0</td>\n",
       "      <td>1019.0</td>\n",
       "    </tr>\n",
       "    <tr>\n",
       "      <th>4</th>\n",
       "      <td>063319de25ce7edb9b1c6b8881290140</td>\n",
       "      <td>No finding</td>\n",
       "      <td>14</td>\n",
       "      <td>R10</td>\n",
       "      <td>NaN</td>\n",
       "      <td>NaN</td>\n",
       "      <td>NaN</td>\n",
       "      <td>NaN</td>\n",
       "    </tr>\n",
       "    <tr>\n",
       "      <th>...</th>\n",
       "      <td>...</td>\n",
       "      <td>...</td>\n",
       "      <td>...</td>\n",
       "      <td>...</td>\n",
       "      <td>...</td>\n",
       "      <td>...</td>\n",
       "      <td>...</td>\n",
       "      <td>...</td>\n",
       "    </tr>\n",
       "    <tr>\n",
       "      <th>67909</th>\n",
       "      <td>936fd5cff1c058d39817a08f58b72cae</td>\n",
       "      <td>No finding</td>\n",
       "      <td>14</td>\n",
       "      <td>R1</td>\n",
       "      <td>NaN</td>\n",
       "      <td>NaN</td>\n",
       "      <td>NaN</td>\n",
       "      <td>NaN</td>\n",
       "    </tr>\n",
       "    <tr>\n",
       "      <th>67910</th>\n",
       "      <td>ca7e72954550eeb610fe22bf0244b7fa</td>\n",
       "      <td>No finding</td>\n",
       "      <td>14</td>\n",
       "      <td>R1</td>\n",
       "      <td>NaN</td>\n",
       "      <td>NaN</td>\n",
       "      <td>NaN</td>\n",
       "      <td>NaN</td>\n",
       "    </tr>\n",
       "    <tr>\n",
       "      <th>67911</th>\n",
       "      <td>aa17d5312a0fb4a2939436abca7f9579</td>\n",
       "      <td>No finding</td>\n",
       "      <td>14</td>\n",
       "      <td>R8</td>\n",
       "      <td>NaN</td>\n",
       "      <td>NaN</td>\n",
       "      <td>NaN</td>\n",
       "      <td>NaN</td>\n",
       "    </tr>\n",
       "    <tr>\n",
       "      <th>67912</th>\n",
       "      <td>4b56bc6d22b192f075f13231419dfcc8</td>\n",
       "      <td>Cardiomegaly</td>\n",
       "      <td>3</td>\n",
       "      <td>R8</td>\n",
       "      <td>771.0</td>\n",
       "      <td>979.0</td>\n",
       "      <td>1680.0</td>\n",
       "      <td>1311.0</td>\n",
       "    </tr>\n",
       "    <tr>\n",
       "      <th>67913</th>\n",
       "      <td>5e272e3adbdaafb07a7e84a9e62b1a4c</td>\n",
       "      <td>No finding</td>\n",
       "      <td>14</td>\n",
       "      <td>R16</td>\n",
       "      <td>NaN</td>\n",
       "      <td>NaN</td>\n",
       "      <td>NaN</td>\n",
       "      <td>NaN</td>\n",
       "    </tr>\n",
       "  </tbody>\n",
       "</table>\n",
       "<p>67914 rows × 8 columns</p>\n",
       "</div>"
      ],
      "text/plain": [
       "                               image_id          class_name  class_id rad_id  \\\n",
       "0      50a418190bc3fb1ef1633bf9678929b3          No finding        14    R11   \n",
       "1      21a10246a5ec7af151081d0cd6d65dc9          No finding        14     R7   \n",
       "2      9a5094b2563a1ef3ff50dc5c7ff71345        Cardiomegaly         3    R10   \n",
       "3      051132a778e61a86eb147c7c6f564dfe  Aortic enlargement         0    R10   \n",
       "4      063319de25ce7edb9b1c6b8881290140          No finding        14    R10   \n",
       "...                                 ...                 ...       ...    ...   \n",
       "67909  936fd5cff1c058d39817a08f58b72cae          No finding        14     R1   \n",
       "67910  ca7e72954550eeb610fe22bf0244b7fa          No finding        14     R1   \n",
       "67911  aa17d5312a0fb4a2939436abca7f9579          No finding        14     R8   \n",
       "67912  4b56bc6d22b192f075f13231419dfcc8        Cardiomegaly         3     R8   \n",
       "67913  5e272e3adbdaafb07a7e84a9e62b1a4c          No finding        14    R16   \n",
       "\n",
       "        x_min   y_min   x_max   y_max  \n",
       "0         NaN     NaN     NaN     NaN  \n",
       "1         NaN     NaN     NaN     NaN  \n",
       "2       691.0  1375.0  1653.0  1831.0  \n",
       "3      1264.0   743.0  1611.0  1019.0  \n",
       "4         NaN     NaN     NaN     NaN  \n",
       "...       ...     ...     ...     ...  \n",
       "67909     NaN     NaN     NaN     NaN  \n",
       "67910     NaN     NaN     NaN     NaN  \n",
       "67911     NaN     NaN     NaN     NaN  \n",
       "67912   771.0   979.0  1680.0  1311.0  \n",
       "67913     NaN     NaN     NaN     NaN  \n",
       "\n",
       "[67914 rows x 8 columns]"
      ]
     },
     "execution_count": 2,
     "metadata": {},
     "output_type": "execute_result"
    }
   ],
   "source": [
    "root = \"/media/yesindeed/DATADRIVE1/mount/remote_cse/datasets/multitask-moe/vinbigdata-chest-xray-abnormalities-detection/\"\n",
    "\n",
    "df = pd.read_csv(f\"{root}/train.csv\")\n",
    "\n",
    "df"
   ]
  },
  {
   "cell_type": "code",
   "execution_count": 4,
   "metadata": {},
   "outputs": [
    {
     "data": {
      "text/plain": [
       "15000"
      ]
     },
     "execution_count": 4,
     "metadata": {},
     "output_type": "execute_result"
    }
   ],
   "source": [
    "len(df[\"image_id\"].unique())"
   ]
  },
  {
   "cell_type": "code",
   "execution_count": 11,
   "metadata": {},
   "outputs": [
    {
     "data": {
      "text/html": [
       "<div>\n",
       "<style scoped>\n",
       "    .dataframe tbody tr th:only-of-type {\n",
       "        vertical-align: middle;\n",
       "    }\n",
       "\n",
       "    .dataframe tbody tr th {\n",
       "        vertical-align: top;\n",
       "    }\n",
       "\n",
       "    .dataframe thead th {\n",
       "        text-align: right;\n",
       "    }\n",
       "</style>\n",
       "<table border=\"1\" class=\"dataframe\">\n",
       "  <thead>\n",
       "    <tr style=\"text-align: right;\">\n",
       "      <th></th>\n",
       "      <th>id</th>\n",
       "      <th>exam_id</th>\n",
       "      <th>path</th>\n",
       "      <th>class</th>\n",
       "      <th>exam_class</th>\n",
       "    </tr>\n",
       "  </thead>\n",
       "  <tbody>\n",
       "    <tr>\n",
       "      <th>0</th>\n",
       "      <td>50a418190bc3fb1ef1633bf9678929b3</td>\n",
       "      <td>50a418190bc3fb1ef1633bf9678929b3</td>\n",
       "      <td>./train-png/50a418190bc3fb1ef1633bf9678929b3.png</td>\n",
       "      <td>no findings</td>\n",
       "      <td>no findings</td>\n",
       "    </tr>\n",
       "    <tr>\n",
       "      <th>1</th>\n",
       "      <td>21a10246a5ec7af151081d0cd6d65dc9</td>\n",
       "      <td>21a10246a5ec7af151081d0cd6d65dc9</td>\n",
       "      <td>./train-png/21a10246a5ec7af151081d0cd6d65dc9.png</td>\n",
       "      <td>no findings</td>\n",
       "      <td>no findings</td>\n",
       "    </tr>\n",
       "    <tr>\n",
       "      <th>2</th>\n",
       "      <td>9a5094b2563a1ef3ff50dc5c7ff71345</td>\n",
       "      <td>9a5094b2563a1ef3ff50dc5c7ff71345</td>\n",
       "      <td>./train-png/9a5094b2563a1ef3ff50dc5c7ff71345.png</td>\n",
       "      <td>cardiomegaly,pleural effusion,pleural thickeni...</td>\n",
       "      <td>cardiomegaly,pleural effusion,pleural thickeni...</td>\n",
       "    </tr>\n",
       "    <tr>\n",
       "      <th>3</th>\n",
       "      <td>051132a778e61a86eb147c7c6f564dfe</td>\n",
       "      <td>051132a778e61a86eb147c7c6f564dfe</td>\n",
       "      <td>./train-png/051132a778e61a86eb147c7c6f564dfe.png</td>\n",
       "      <td>aortic enlargement,cardiomegaly,pleural thicke...</td>\n",
       "      <td>aortic enlargement,cardiomegaly,pleural thicke...</td>\n",
       "    </tr>\n",
       "    <tr>\n",
       "      <th>4</th>\n",
       "      <td>063319de25ce7edb9b1c6b8881290140</td>\n",
       "      <td>063319de25ce7edb9b1c6b8881290140</td>\n",
       "      <td>./train-png/063319de25ce7edb9b1c6b8881290140.png</td>\n",
       "      <td>no findings</td>\n",
       "      <td>no findings</td>\n",
       "    </tr>\n",
       "  </tbody>\n",
       "</table>\n",
       "</div>"
      ],
      "text/plain": [
       "                                 id                           exam_id  \\\n",
       "0  50a418190bc3fb1ef1633bf9678929b3  50a418190bc3fb1ef1633bf9678929b3   \n",
       "1  21a10246a5ec7af151081d0cd6d65dc9  21a10246a5ec7af151081d0cd6d65dc9   \n",
       "2  9a5094b2563a1ef3ff50dc5c7ff71345  9a5094b2563a1ef3ff50dc5c7ff71345   \n",
       "3  051132a778e61a86eb147c7c6f564dfe  051132a778e61a86eb147c7c6f564dfe   \n",
       "4  063319de25ce7edb9b1c6b8881290140  063319de25ce7edb9b1c6b8881290140   \n",
       "\n",
       "                                               path  \\\n",
       "0  ./train-png/50a418190bc3fb1ef1633bf9678929b3.png   \n",
       "1  ./train-png/21a10246a5ec7af151081d0cd6d65dc9.png   \n",
       "2  ./train-png/9a5094b2563a1ef3ff50dc5c7ff71345.png   \n",
       "3  ./train-png/051132a778e61a86eb147c7c6f564dfe.png   \n",
       "4  ./train-png/063319de25ce7edb9b1c6b8881290140.png   \n",
       "\n",
       "                                               class  \\\n",
       "0                                        no findings   \n",
       "1                                        no findings   \n",
       "2  cardiomegaly,pleural effusion,pleural thickeni...   \n",
       "3  aortic enlargement,cardiomegaly,pleural thicke...   \n",
       "4                                        no findings   \n",
       "\n",
       "                                          exam_class  \n",
       "0                                        no findings  \n",
       "1                                        no findings  \n",
       "2  cardiomegaly,pleural effusion,pleural thickeni...  \n",
       "3  aortic enlargement,cardiomegaly,pleural thicke...  \n",
       "4                                        no findings  "
      ]
     },
     "execution_count": 11,
     "metadata": {},
     "output_type": "execute_result"
    }
   ],
   "source": [
    "dict_out = {\"id\": [], \"exam_id\": [], \"path\": [], \"class\": [], \"exam_class\": []}\n",
    "\n",
    "for i, id in enumerate(df[\"image_id\"].unique()):\n",
    "    sub_df = df.loc[df[\"image_id\"] == id]\n",
    "\n",
    "    classes = sub_df[\"class_name\"].unique()\n",
    "\n",
    "    if \"No finding\" in classes:\n",
    "        assert len(classes) == 1\n",
    "    # assert len(classes) == len(\n",
    "    #     sub_df), f\"For image {id}, got classes {list(classes)}\"\n",
    "\n",
    "    img_path = f\"./train-png/{id}.png\"\n",
    "\n",
    "    assert os.path.exists(f\"{root}/{img_path.replace('./', '')}\")\n",
    "\n",
    "    cls = \",\".join(x.lower() for x in classes)\n",
    "    cls = cls.replace(\"no finding\", \"no findings\")\n",
    "\n",
    "    dict_out[\"id\"].append(id)\n",
    "    dict_out[\"exam_id\"].append(id)\n",
    "\n",
    "    dict_out[\"path\"].append(img_path)\n",
    "\n",
    "    dict_out[\"class\"].append(cls)\n",
    "    dict_out[\"exam_class\"].append(cls)\n",
    "\n",
    "df_out = pd.DataFrame.from_dict(dict_out)\n",
    "df_out.head()"
   ]
  },
  {
   "cell_type": "code",
   "execution_count": 9,
   "metadata": {},
   "outputs": [
    {
     "data": {
      "text/html": [
       "<div>\n",
       "<style scoped>\n",
       "    .dataframe tbody tr th:only-of-type {\n",
       "        vertical-align: middle;\n",
       "    }\n",
       "\n",
       "    .dataframe tbody tr th {\n",
       "        vertical-align: top;\n",
       "    }\n",
       "\n",
       "    .dataframe thead th {\n",
       "        text-align: right;\n",
       "    }\n",
       "</style>\n",
       "<table border=\"1\" class=\"dataframe\">\n",
       "  <thead>\n",
       "    <tr style=\"text-align: right;\">\n",
       "      <th></th>\n",
       "      <th>image_id</th>\n",
       "      <th>class_name</th>\n",
       "      <th>class_id</th>\n",
       "      <th>rad_id</th>\n",
       "      <th>x_min</th>\n",
       "      <th>y_min</th>\n",
       "      <th>x_max</th>\n",
       "      <th>y_max</th>\n",
       "    </tr>\n",
       "  </thead>\n",
       "  <tbody>\n",
       "    <tr>\n",
       "      <th>0</th>\n",
       "      <td>50a418190bc3fb1ef1633bf9678929b3</td>\n",
       "      <td>No finding</td>\n",
       "      <td>14</td>\n",
       "      <td>R11</td>\n",
       "      <td>NaN</td>\n",
       "      <td>NaN</td>\n",
       "      <td>NaN</td>\n",
       "      <td>NaN</td>\n",
       "    </tr>\n",
       "    <tr>\n",
       "      <th>45863</th>\n",
       "      <td>50a418190bc3fb1ef1633bf9678929b3</td>\n",
       "      <td>No finding</td>\n",
       "      <td>14</td>\n",
       "      <td>R15</td>\n",
       "      <td>NaN</td>\n",
       "      <td>NaN</td>\n",
       "      <td>NaN</td>\n",
       "      <td>NaN</td>\n",
       "    </tr>\n",
       "    <tr>\n",
       "      <th>57424</th>\n",
       "      <td>50a418190bc3fb1ef1633bf9678929b3</td>\n",
       "      <td>No finding</td>\n",
       "      <td>14</td>\n",
       "      <td>R16</td>\n",
       "      <td>NaN</td>\n",
       "      <td>NaN</td>\n",
       "      <td>NaN</td>\n",
       "      <td>NaN</td>\n",
       "    </tr>\n",
       "  </tbody>\n",
       "</table>\n",
       "</div>"
      ],
      "text/plain": [
       "                               image_id  class_name  class_id rad_id  x_min  \\\n",
       "0      50a418190bc3fb1ef1633bf9678929b3  No finding        14    R11    NaN   \n",
       "45863  50a418190bc3fb1ef1633bf9678929b3  No finding        14    R15    NaN   \n",
       "57424  50a418190bc3fb1ef1633bf9678929b3  No finding        14    R16    NaN   \n",
       "\n",
       "       y_min  x_max  y_max  \n",
       "0        NaN    NaN    NaN  \n",
       "45863    NaN    NaN    NaN  \n",
       "57424    NaN    NaN    NaN  "
      ]
     },
     "execution_count": 9,
     "metadata": {},
     "output_type": "execute_result"
    }
   ],
   "source": [
    "sub_df"
   ]
  },
  {
   "cell_type": "code",
   "execution_count": 13,
   "metadata": {},
   "outputs": [
    {
     "name": "stdout",
     "output_type": "stream",
     "text": [
      "class\n",
      "no findings                                                                                 10606\n",
      "aortic enlargement,cardiomegaly                                                               357\n",
      "cardiomegaly,aortic enlargement                                                               352\n",
      "aortic enlargement                                                                            142\n",
      "cardiomegaly                                                                                   94\n",
      "                                                                                            ...  \n",
      "pleural thickening,nodule/mass,aortic enlargement                                               1\n",
      "lung opacity,cardiomegaly,aortic enlargement,pulmonary fibrosis,pleural thickening              1\n",
      "lung opacity,pleural thickening,cardiomegaly,aortic enlargement,nodule/mass,other lesion        1\n",
      "nodule/mass,infiltration,consolidation,ild,pulmonary fibrosis,pleural thickening                1\n",
      "cardiomegaly,infiltration,lung opacity                                                          1\n",
      "Name: count, Length: 2227, dtype: int64\n"
     ]
    }
   ],
   "source": [
    "print(df_out[\"class\"].value_counts())"
   ]
  },
  {
   "cell_type": "code",
   "execution_count": 14,
   "metadata": {},
   "outputs": [],
   "source": [
    "import numpy as np\n",
    "\n",
    "df_out[\"dataset\"] = \"vinbigdata-cxr\"\n",
    "df_out[\"class_num\"] = 14\n",
    "df_out[\"contains_negative\"] = 1\n",
    "df_out[\"modality\"] = \"xray\"\n",
    "\n",
    "df_out[\"split\"] = \"test\""
   ]
  },
  {
   "cell_type": "code",
   "execution_count": 15,
   "metadata": {},
   "outputs": [
    {
     "data": {
      "text/plain": [
       "split\n",
       "test    15000\n",
       "Name: count, dtype: int64"
      ]
     },
     "execution_count": 15,
     "metadata": {},
     "output_type": "execute_result"
    }
   ],
   "source": [
    "df_out[\"split\"].value_counts()"
   ]
  },
  {
   "cell_type": "code",
   "execution_count": 17,
   "metadata": {},
   "outputs": [],
   "source": [
    "df_out.to_csv(f\"{root}/metadata.csv\", index=False)"
   ]
  },
  {
   "cell_type": "code",
   "execution_count": 38,
   "metadata": {},
   "outputs": [
    {
     "name": "stdout",
     "output_type": "stream",
     "text": [
      "class\n",
      "no findings                                                                                 10606\n",
      "aortic enlargement,cardiomegaly                                                               357\n",
      "cardiomegaly,aortic enlargement                                                               352\n",
      "aortic enlargement                                                                            142\n",
      "cardiomegaly                                                                                   94\n",
      "                                                                                            ...  \n",
      "pleural thickening,nodule/mass,aortic enlargement                                               1\n",
      "lung opacity,cardiomegaly,aortic enlargement,pulmonary fibrosis,pleural thickening              1\n",
      "lung opacity,pleural thickening,cardiomegaly,aortic enlargement,nodule/mass,other lesion        1\n",
      "nodule/mass,infiltration,consolidation,ild,pulmonary fibrosis,pleural thickening                1\n",
      "cardiomegaly,infiltration,lung opacity                                                          1\n",
      "Name: count, Length: 2227, dtype: int64\n"
     ]
    }
   ],
   "source": [
    "print(df_out[\"class\"].value_counts())"
   ]
  },
  {
   "cell_type": "code",
   "execution_count": 35,
   "metadata": {},
   "outputs": [
    {
     "name": "stdout",
     "output_type": "stream",
     "text": [
      "{'no findings': 10606, 'cardiomegaly': 2300, 'pleural effusion': 1032, 'pleural thickening': 1981, 'aortic enlargement': 3067, 'pulmonary fibrosis': 1617, 'ild': 386, 'nodule/mass': 826, 'other lesion': 1134, 'lung opacity': 1322, 'infiltration': 613, 'consolidation': 353, 'calcification': 452, 'atelectasis': 186, 'pneumothorax': 96}\n"
     ]
    }
   ],
   "source": [
    "classes = dict()\n",
    "\n",
    "for cls in df_out[\"class\"].tolist():\n",
    "    for x in cls.split(\",\"):\n",
    "        if x not in classes.keys():\n",
    "            classes[x] = 1\n",
    "        else:\n",
    "            classes[x] += 1\n",
    "\n",
    "print(classes)"
   ]
  },
  {
   "cell_type": "code",
   "execution_count": 37,
   "metadata": {},
   "outputs": [
    {
     "data": {
      "text/plain": [
       "['no findings',\n",
       " 'cardiomegaly',\n",
       " 'pleural effusion',\n",
       " 'pleural thickening',\n",
       " 'aortic enlargement',\n",
       " 'pulmonary fibrosis',\n",
       " 'ild',\n",
       " 'nodule/mass',\n",
       " 'other lesion',\n",
       " 'lung opacity',\n",
       " 'infiltration',\n",
       " 'consolidation',\n",
       " 'calcification',\n",
       " 'atelectasis',\n",
       " 'pneumothorax']"
      ]
     },
     "execution_count": 37,
     "metadata": {},
     "output_type": "execute_result"
    }
   ],
   "source": [
    "list(classes.keys())"
   ]
  },
  {
   "cell_type": "code",
   "execution_count": null,
   "metadata": {},
   "outputs": [],
   "source": []
  }
 ],
 "metadata": {
  "kernelspec": {
   "display_name": "mmoe",
   "language": "python",
   "name": "python3"
  },
  "language_info": {
   "codemirror_mode": {
    "name": "ipython",
    "version": 3
   },
   "file_extension": ".py",
   "mimetype": "text/x-python",
   "name": "python",
   "nbconvert_exporter": "python",
   "pygments_lexer": "ipython3",
   "version": "3.10.0"
  }
 },
 "nbformat": 4,
 "nbformat_minor": 2
}
