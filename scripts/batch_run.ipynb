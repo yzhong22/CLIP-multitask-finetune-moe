{
 "cells": [
  {
   "cell_type": "code",
   "execution_count": 2,
   "metadata": {},
   "outputs": [],
   "source": [
    "import os"
   ]
  },
  {
   "cell_type": "code",
   "execution_count": 10,
   "metadata": {},
   "outputs": [
    {
     "name": "stdout",
     "output_type": "stream",
     "text": [
      "CUDA_LAUNCH_BLOCKING=1 python train_experts.py --backbone biomedclip --batch_size 128 --blr 2e-4 --residual_scale 0.6 --epochs 5 --warmup_epochs 1 --weight_decay 0.05 --drop_path 0.1 --reprob 0.25 --mixup 0.8 --cutmix 1.0 --smoothing 0.1 --subsets rsna-pulmonary-embolism --input_size 224 --data_root /research/d5/gds/yzhong22/datasets/multitask-moe --output_dir /research/d5/gds/yzhong22/experiments/multitask-moe --use_amp True\n"
     ]
    }
   ],
   "source": [
    "subsets = {\"rsna-pulmonary-embolism\": 5, \"chexpert\": 20, \"CC-CCII\": 20, \"ssim-covid19\": 50, \"lung-pet-ct-dx\": 20}\n",
    "\n",
    "base_command = \"\"\"CUDA_LAUNCH_BLOCKING=1 python train_experts.py \\\n",
    "--backbone biomedclip \\\n",
    "--batch_size 128 \\\n",
    "--blr 2e-4 \\\n",
    "--residual_scale 0.6 \\\n",
    "--epochs {} \\\n",
    "--warmup_epochs {} \\\n",
    "--weight_decay 0.05 \\\n",
    "--drop_path 0.1 \\\n",
    "--reprob 0.25 \\\n",
    "--mixup 0.8 \\\n",
    "--cutmix 1.0 \\\n",
    "--smoothing 0.1 \\\n",
    "--subsets {} \\\n",
    "--input_size 224 \\\n",
    "--data_root /research/d5/gds/yzhong22/datasets/multitask-moe \\\n",
    "--output_dir /research/d5/gds/yzhong22/experiments/multitask-moe \\\n",
    "--use_amp True\"\"\"\n",
    "\n",
    "commands = []\n",
    "for subset, epoch in subsets.items():\n",
    "    commands.append(base_command.format(epoch, epoch // 5, subset))\n",
    "\n",
    "# print(\"&&\".join(commands[3:5]))\n",
    "\n",
    "# print(\"&&\".join(commands[2:3] + commands[5:6]))\n",
    "print(\"&&\".join(commands[1]))"
   ]
  },
  {
   "cell_type": "code",
   "execution_count": 13,
   "metadata": {},
   "outputs": [
    {
     "name": "stdout",
     "output_type": "stream",
     "text": [
      "CUDA_LAUNCH_BLOCKING=1 python train_experts.py --backbone biomedclip --batch_size 128 --blr 2e-4 --residual_scale 0.6 --epochs 20 --warmup_epochs 4 --weight_decay 0.05 --drop_path 0.1 --reprob 0.25 --mixup 0.8 --cutmix 1.0 --smoothing 0.1 --subsets chexpert-cardiomegaly --input_size 224 --data_root /research/d5/gds/yzhong22/datasets/multitask-moe --output_dir /research/d5/gds/yzhong22/experiments/multitask-moe --use_amp True&&CUDA_LAUNCH_BLOCKING=1 python train_experts.py --backbone biomedclip --batch_size 128 --blr 2e-4 --residual_scale 0.6 --epochs 20 --warmup_epochs 4 --weight_decay 0.05 --drop_path 0.1 --reprob 0.25 --mixup 0.8 --cutmix 1.0 --smoothing 0.1 --subsets chexpert-edema --input_size 224 --data_root /research/d5/gds/yzhong22/datasets/multitask-moe --output_dir /research/d5/gds/yzhong22/experiments/multitask-moe --use_amp True&&CUDA_LAUNCH_BLOCKING=1 python train_experts.py --backbone biomedclip --batch_size 128 --blr 2e-4 --residual_scale 0.6 --epochs 20 --warmup_epochs 4 --weight_decay 0.05 --drop_path 0.1 --reprob 0.25 --mixup 0.8 --cutmix 1.0 --smoothing 0.1 --subsets chexpert-pleural\\ effusion --input_size 224 --data_root /research/d5/gds/yzhong22/datasets/multitask-moe --output_dir /research/d5/gds/yzhong22/experiments/multitask-moe --use_amp True&&CUDA_LAUNCH_BLOCKING=1 python train_experts.py --backbone biomedclip --batch_size 128 --blr 2e-4 --residual_scale 0.6 --epochs 20 --warmup_epochs 4 --weight_decay 0.05 --drop_path 0.1 --reprob 0.25 --mixup 0.8 --cutmix 1.0 --smoothing 0.1 --subsets chexpert-consolidation --input_size 224 --data_root /research/d5/gds/yzhong22/datasets/multitask-moe --output_dir /research/d5/gds/yzhong22/experiments/multitask-moe --use_amp True&&CUDA_LAUNCH_BLOCKING=1 python train_experts.py --backbone biomedclip --batch_size 128 --blr 2e-4 --residual_scale 0.6 --epochs 20 --warmup_epochs 4 --weight_decay 0.05 --drop_path 0.1 --reprob 0.25 --mixup 0.8 --cutmix 1.0 --smoothing 0.1 --subsets chexpert-pneumonia --input_size 224 --data_root /research/d5/gds/yzhong22/datasets/multitask-moe --output_dir /research/d5/gds/yzhong22/experiments/multitask-moe --use_amp True&&CUDA_LAUNCH_BLOCKING=1 python train_experts.py --backbone biomedclip --batch_size 128 --blr 2e-4 --residual_scale 0.6 --epochs 20 --warmup_epochs 4 --weight_decay 0.05 --drop_path 0.1 --reprob 0.25 --mixup 0.8 --cutmix 1.0 --smoothing 0.1 --subsets chexpert-atelectasis --input_size 224 --data_root /research/d5/gds/yzhong22/datasets/multitask-moe --output_dir /research/d5/gds/yzhong22/experiments/multitask-moe --use_amp True&&CUDA_LAUNCH_BLOCKING=1 python train_experts.py --backbone biomedclip --batch_size 128 --blr 2e-4 --residual_scale 0.6 --epochs 20 --warmup_epochs 4 --weight_decay 0.05 --drop_path 0.1 --reprob 0.25 --mixup 0.8 --cutmix 1.0 --smoothing 0.1 --subsets chexpert-pneumothorax --input_size 224 --data_root /research/d5/gds/yzhong22/datasets/multitask-moe --output_dir /research/d5/gds/yzhong22/experiments/multitask-moe --use_amp True\n"
     ]
    }
   ],
   "source": [
    "subsets = {\n",
    "    \"rsna-pulmonary-embolism\": 5,\n",
    "    \"chexpert-cardiomegaly\": 20,\n",
    "    \"chexpert-edema\": 20,\n",
    "    \"chexpert-pleural\\ effusion\": 20,\n",
    "    \"chexpert-consolidation\": 20,\n",
    "    \"chexpert-pneumonia\": 20,\n",
    "    \"chexpert-atelectasis\": 20,\n",
    "    \"chexpert-pneumothorax\": 20,\n",
    "    \"CC-CCII\": 20,\n",
    "    \"ssim-covid19\": 50,\n",
    "    \"lung-pet-ct-dx\": 20,\n",
    "}\n",
    "\n",
    "base_command = \"\"\"CUDA_LAUNCH_BLOCKING=1 python train_experts.py \\\n",
    "--backbone biomedclip \\\n",
    "--batch_size 128 \\\n",
    "--blr 2e-4 \\\n",
    "--residual_scale 0.6 \\\n",
    "--epochs {} \\\n",
    "--warmup_epochs {} \\\n",
    "--weight_decay 0.05 \\\n",
    "--drop_path 0.1 \\\n",
    "--reprob 0.25 \\\n",
    "--mixup 0.8 \\\n",
    "--cutmix 1.0 \\\n",
    "--smoothing 0.1 \\\n",
    "--subsets {} \\\n",
    "--input_size 224 \\\n",
    "--data_root /research/d5/gds/yzhong22/datasets/multitask-moe \\\n",
    "--output_dir /research/d5/gds/yzhong22/experiments/multitask-moe \\\n",
    "--use_amp True\"\"\"\n",
    "\n",
    "commands = []\n",
    "for subset, epoch in subsets.items():\n",
    "    commands.append(base_command.format(epoch, epoch // 5, subset))\n",
    "\n",
    "print(\"&&\".join(commands[1:8]))"
   ]
  },
  {
   "cell_type": "markdown",
   "metadata": {},
   "source": [
    "CUDA_LAUNCH_BLOCKING=1 python train_experts.py --backbone biomedclip --batch_size 128 --blr 2e-4 --residual_scale 0.6 --epochs 20 --warmup_epochs 4 --weight_decay 0.05 --drop_path 0.1 --reprob 0.25 --mixup 0.8 --cutmix 1.0 --smoothing 0.1 --subsets chexpert-cardiomegaly --input_size 224 --data_root /research/d5/gds/yzhong22/datasets/multitask-moe --output_dir /research/d5/gds/yzhong22/experiments/multitask-moe --use_amp True&&CUDA_LAUNCH_BLOCKING=1 python train_experts.py --backbone biomedclip --batch_size 128 --blr 2e-4 --residual_scale 0.6 --epochs 20 --warmup_epochs 4 --weight_decay 0.05 --drop_path 0.1 --reprob 0.25 --mixup 0.8 --cutmix 1.0 --smoothing 0.1 --subsets chexpert-edema --input_size 224 --data_root /research/d5/gds/yzhong22/datasets/multitask-moe --output_dir /research/d5/gds/yzhong22/experiments/multitask-moe --use_amp True&&CUDA_LAUNCH_BLOCKING=1 python train_experts.py --backbone biomedclip --batch_size 128 --blr 2e-4 --residual_scale 0.6 --epochs 20 --warmup_epochs 4 --weight_decay 0.05 --drop_path 0.1 --reprob 0.25 --mixup 0.8 --cutmix 1.0 --smoothing 0.1 --subsets chexpert-pleural\\ effusion --input_size 224 --data_root /research/d5/gds/yzhong22/datasets/multitask-moe --output_dir /research/d5/gds/yzhong22/experiments/multitask-moe --use_amp True&&CUDA_LAUNCH_BLOCKING=1 python train_experts.py --backbone biomedclip --batch_size 128 --blr 2e-4 --residual_scale 0.6 --epochs 20 --warmup_epochs 4 --weight_decay 0.05 --drop_path 0.1 --reprob 0.25 --mixup 0.8 --cutmix 1.0 --smoothing 0.1 --subsets chexpert-consolidation --input_size 224 --data_root /research/d5/gds/yzhong22/datasets/multitask-moe --output_dir /research/d5/gds/yzhong22/experiments/multitask-moe --use_amp True&&CUDA_LAUNCH_BLOCKING=1 python train_experts.py --backbone biomedclip --batch_size 128 --blr 2e-4 --residual_scale 0.6 --epochs 20 --warmup_epochs 4 --weight_decay 0.05 --drop_path 0.1 --reprob 0.25 --mixup 0.8 --cutmix 1.0 --smoothing 0.1 --subsets chexpert-pneumonia --input_size 224 --data_root /research/d5/gds/yzhong22/datasets/multitask-moe --output_dir /research/d5/gds/yzhong22/experiments/multitask-moe --use_amp True&&CUDA_LAUNCH_BLOCKING=1 python train_experts.py --backbone biomedclip --batch_size 128 --blr 2e-4 --residual_scale 0.6 --epochs 20 --warmup_epochs 4 --weight_decay 0.05 --drop_path 0.1 --reprob 0.25 --mixup 0.8 --cutmix 1.0 --smoothing 0.1 --subsets chexpert-atelectasis --input_size 224 --data_root /research/d5/gds/yzhong22/datasets/multitask-moe --output_dir /research/d5/gds/yzhong22/experiments/multitask-moe --use_amp True&&CUDA_LAUNCH_BLOCKING=1 python train_experts.py --backbone biomedclip --batch_size 128 --blr 2e-4 --residual_scale 0.6 --epochs 20 --warmup_epochs 4 --weight_decay 0.05 --drop_path 0.1 --reprob 0.25 --mixup 0.8 --cutmix 1.0 --smoothing 0.1 --subsets chexpert-pneumothorax --input_size 224 --data_root /research/d5/gds/yzhong22/datasets/multitask-moe --output_dir /research/d5/gds/yzhong22/experiments/multitask-moe --use_amp True\n"
   ]
  },
  {
   "cell_type": "code",
   "execution_count": 8,
   "metadata": {},
   "outputs": [
    {
     "data": {
      "text/plain": [
       "'rsna-pulmonary-embolism,chexpert-cardiomegaly,chexpert-edema,chexpert-pleural\\\\ effusion,chexpert-consolidation,chexpert-pneumonia,chexpert-atelectasis,chexpert-pneumothorax,CC-CCII,ssim-covid19,lung-pet-ct-dx'"
      ]
     },
     "execution_count": 8,
     "metadata": {},
     "output_type": "execute_result"
    }
   ],
   "source": [
    "\",\".join(subsets.keys())"
   ]
  },
  {
   "cell_type": "markdown",
   "metadata": {},
   "source": [
    "## eval"
   ]
  },
  {
   "cell_type": "code",
   "execution_count": 17,
   "metadata": {},
   "outputs": [
    {
     "name": "stdout",
     "output_type": "stream",
     "text": [
      "CUDA_LAUNCH_BLOCKING=1 python eval_adaptation.py --backbone biomedclip --batch_size 128 --residual_scale 0.6 --experts lung-pet-ct-dx --eval_subsets rsna-pulmonary-embolism,chexpert,CC-CCII,ssim-covid19,lung-pet-ct-dx --ckpt_dir /research/d5/gds/yzhong22/experiments/multitask-moe/biomedclip/seed0/lp --input_size 224 --data_root /research/d5/gds/yzhong22/datasets/multitask-moe --save_pred True --use_amp True\n"
     ]
    }
   ],
   "source": [
    "# stage 1\n",
    "\n",
    "subsets = [\n",
    "    \"rsna-pulmonary-embolism\",\n",
    "    \"chexpert-cardiomegaly\",\n",
    "    \"chexpert-edema\",\n",
    "    \"chexpert-pleural\\\\ effusion\",\n",
    "    \"chexpert-consolidation\",\n",
    "    \"chexpert-pneumonia\",\n",
    "    \"chexpert-atelectasis\",\n",
    "    \"chexpert-pneumothorax\",\n",
    "    \"CC-CCII\",\n",
    "    \"ssim-covid19\",\n",
    "    \"lung-pet-ct-dx\",\n",
    "]\n",
    "\n",
    "\n",
    "base_command = \"\"\"CUDA_LAUNCH_BLOCKING=1 python eval_adaptation.py \\\n",
    "--backbone biomedclip \\\n",
    "--batch_size 128 \\\n",
    "--residual_scale 0.6 \\\n",
    "--experts {} \\\n",
    "--eval_subsets rsna-pulmonary-embolism,chexpert,CC-CCII,ssim-covid19,lung-pet-ct-dx \\\n",
    "--ckpt_dir /research/d5/gds/yzhong22/experiments/multitask-moe/biomedclip/seed0/lp \\\n",
    "--input_size 224 \\\n",
    "--data_root /research/d5/gds/yzhong22/datasets/multitask-moe \\\n",
    "--save_pred True \\\n",
    "--use_amp True\"\"\"\n",
    "\n",
    "\n",
    "commands = []\n",
    "for subset in subsets:\n",
    "    commands.append(base_command.format(subset))\n",
    "\n",
    "print(\"&&\".join(commands[-1:]))"
   ]
  },
  {
   "cell_type": "code",
   "execution_count": 3,
   "metadata": {},
   "outputs": [
    {
     "name": "stdout",
     "output_type": "stream",
     "text": [
      "['rsna-pulmonary-embolism', 'chexpert-cardiomegaly', 'chexpert-edema', 'chexpert-pleural\\\\ effusion', 'chexpert-consolidation', 'chexpert-pneumonia', 'chexpert-atelectasis', 'chexpert-pneumothorax', 'CC-CCII', 'ssim-covid19', 'lung-pet-ct-dx']\n"
     ]
    }
   ],
   "source": []
  },
  {
   "cell_type": "markdown",
   "metadata": {},
   "source": [
    "CUDA_LAUNCH_BLOCKING=1 python eval_adaptation.py --backbone biomedclip --batch_size 128 --residual_scale 0.6 --experts chexpert-edema --eval_subsets chexpert --ckpt_dir /research/d5/gds/yzhong22/experiments/multitask-moe/biomedclip/seed0/lp --input_size 224 --data_root /research/d5/gds/yzhong22/datasets/multitask-moe --save_pred True --use_amp True\n"
   ]
  },
  {
   "cell_type": "markdown",
   "metadata": {},
   "source": []
  }
 ],
 "metadata": {
  "kernelspec": {
   "display_name": "mmoe",
   "language": "python",
   "name": "python3"
  },
  "language_info": {
   "codemirror_mode": {
    "name": "ipython",
    "version": 3
   },
   "file_extension": ".py",
   "mimetype": "text/x-python",
   "name": "python",
   "nbconvert_exporter": "python",
   "pygments_lexer": "ipython3",
   "version": "3.10.0"
  }
 },
 "nbformat": 4,
 "nbformat_minor": 2
}
