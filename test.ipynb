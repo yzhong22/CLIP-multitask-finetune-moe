{
 "cells": [
  {
   "cell_type": "code",
   "execution_count": 1,
   "metadata": {},
   "outputs": [
    {
     "name": "stderr",
     "output_type": "stream",
     "text": [
      "/home/yesindeed/anaconda3/envs/mmoe/lib/python3.10/site-packages/tqdm/auto.py:21: TqdmWarning: IProgress not found. Please update jupyter and ipywidgets. See https://ipywidgets.readthedocs.io/en/stable/user_install.html\n",
      "  from .autonotebook import tqdm as notebook_tqdm\n"
     ]
    }
   ],
   "source": [
    "from datasets.dataset import SingleExpertDataset\n",
    "from easydict import EasyDict as edict\n",
    "import os\n",
    "\n",
    "data_root = \"/media/yesindeed/DATADRIVE1/mount/remote_cse/datasets/multitask-moe\"\n",
    "\n",
    "dataset = SingleExpertDataset(\n",
    "    args=edict(data_root=data_root, input_size=224,\n",
    "               metadata_path=os.path.join(data_root, \"metadata.csv\")),\n",
    "    subsets=[\"chexpert-pleural effusion\"],\n",
    "    split=\"test\",\n",
    ")"
   ]
  },
  {
   "cell_type": "code",
   "execution_count": 2,
   "metadata": {},
   "outputs": [
    {
     "data": {
      "text/plain": [
       "{'no pleural effusion found': 0, 'pleural effusion': 1}"
      ]
     },
     "execution_count": 2,
     "metadata": {},
     "output_type": "execute_result"
    }
   ],
   "source": [
    "dataset.classes"
   ]
  },
  {
   "cell_type": "code",
   "execution_count": 3,
   "metadata": {},
   "outputs": [
    {
     "data": {
      "text/plain": [
       "[['An image of diseased', 'An image of no findings'],\n",
       " ['An image of no pleural effusion found', 'An image of pleural effusion']]"
      ]
     },
     "execution_count": 3,
     "metadata": {},
     "output_type": "execute_result"
    }
   ],
   "source": [
    "dataset.class_texts"
   ]
  },
  {
   "cell_type": "code",
   "execution_count": 10,
   "metadata": {},
   "outputs": [
    {
     "name": "stdout",
     "output_type": "stream",
     "text": [
      "tensor([1, 0])\n",
      "no findings\n",
      "chexpert\n"
     ]
    }
   ],
   "source": [
    "data = dataset[9]\n",
    "\n",
    "print(data[\"label\"])\n",
    "print(data[\"class_raw\"])\n",
    "print(data[\"dataset\"])"
   ]
  },
  {
   "cell_type": "code",
   "execution_count": null,
   "metadata": {},
   "outputs": [],
   "source": [
    "from datasets.dataset import MultiLabelDataset\n",
    "\n",
    "data_root = \"/media/yesindeed/DATADRIVE1/mount/remote_cse/datasets/multitask-moe\"\n",
    "\n",
    "dataset = MultiLabelDataset(\n",
    "    args=edict(data_root=data_root, input_size=224, metadata_path=os.path.join(data_root, \"metadata_multilabel.csv\")),\n",
    "    subsets=[\"lung-pet-ct-dx\"],\n",
    "    split=\"test\",\n",
    ")"
   ]
  },
  {
   "cell_type": "code",
   "execution_count": null,
   "metadata": {},
   "outputs": [],
   "source": [
    "dataset.classes"
   ]
  },
  {
   "cell_type": "code",
   "execution_count": null,
   "metadata": {},
   "outputs": [],
   "source": [
    "dataset.class_texts"
   ]
  },
  {
   "cell_type": "code",
   "execution_count": null,
   "metadata": {},
   "outputs": [],
   "source": [
    "data = dataset[11]\n",
    "\n",
    "print(data[\"label\"])\n",
    "print(data[\"class_raw\"])\n",
    "print(data[\"dataset\"])"
   ]
  },
  {
   "cell_type": "code",
   "execution_count": null,
   "metadata": {},
   "outputs": [],
   "source": [
    "import matplotlib.pyplot as plt\n",
    "from torchvision.transforms import functional as F\n",
    "\n",
    "\n",
    "plt.imshow(F.to_pil_image(data[\"image\"]), cmap=\"gray\")"
   ]
  },
  {
   "cell_type": "code",
   "execution_count": null,
   "metadata": {},
   "outputs": [],
   "source": [
    "data"
   ]
  },
  {
   "cell_type": "code",
   "execution_count": null,
   "metadata": {},
   "outputs": [],
   "source": [
    "import torch\n",
    "\n",
    "bs = 128\n",
    "dim = 1024\n",
    "num_class = 10\n",
    "\n",
    "image_feature = torch.rand(bs, dim)\n",
    "text_feature = torch.rand(num_class, 2, dim)\n",
    "\n",
    "out = image_feature @ text_feature.transpose(1, 2)\n",
    "\n",
    "out.shape"
   ]
  },
  {
   "cell_type": "code",
   "execution_count": null,
   "metadata": {},
   "outputs": [],
   "source": [
    "import torch\n",
    "\n",
    "ckpt = torch.load(\n",
    "    \"/media/yesindeed/DATADRIVE1/mount/remote_cse/experiments/multitask-moe/biomedclip/seed0/lp/train_chexpert/checkpoint-latest.pth\"\n",
    ")"
   ]
  },
  {
   "cell_type": "code",
   "execution_count": null,
   "metadata": {},
   "outputs": [],
   "source": [
    "ckpt[\"model\"].keys()"
   ]
  },
  {
   "cell_type": "code",
   "execution_count": null,
   "metadata": {},
   "outputs": [],
   "source": [
    "import numpy as np\n",
    "import torch\n",
    "from sklearn.metrics import roc_auc_score\n",
    "\n",
    "\n",
    "def one_hot(a, num_classes):\n",
    "    return np.squeeze(np.eye(num_classes)[a.reshape(-1)])\n",
    "\n",
    "\n",
    "prob = torch.softmax(torch.rand(5, 3), dim=-1).numpy()\n",
    "print(prob)\n",
    "\n",
    "array = torch.randint(0, 3, (5,)).numpy()\n",
    "print(array)\n",
    "\n",
    "print(one_hot(array, 3))\n",
    "\n",
    "auc = roc_auc_score(one_hot(array, 3), prob)\n",
    "print(auc)"
   ]
  },
  {
   "cell_type": "code",
   "execution_count": null,
   "metadata": {},
   "outputs": [],
   "source": [
    "array = torch.randint(0, 2, (5,)).cuda()\n",
    "\n",
    "\n",
    "def one_hot(x, num_classes, on_value=1.0, off_value=0.0):\n",
    "    x = x.long().view(-1, 1)\n",
    "    return torch.full((x.size()[0], num_classes), off_value, device=x.device).scatter_(1, x, on_value)\n",
    "\n",
    "\n",
    "print(array)\n",
    "print(one_hot(array.unsqueeze(-1), 2))"
   ]
  },
  {
   "cell_type": "code",
   "execution_count": 122,
   "metadata": {},
   "outputs": [],
   "source": [
    "import numpy as np\n",
    "import torch\n",
    "\n",
    "dataset = \"lung-pet-ct-dx\"\n",
    "\n",
    "npz_train = np.load(\n",
    "    f\"/media/yesindeed/DATADRIVE1/mount/remote_cse/experiments/multitask-moe/biomedclip/seed0/lp/train_{dataset}/pred_latest.npz\",\n",
    "    allow_pickle=True,\n",
    ")\n",
    "\n",
    "npz_eval = np.load(\n",
    "    f\"/media/yesindeed/DATADRIVE1/mount/remote_cse/experiments/multitask-moe/biomedclip/seed0/lp/train_{dataset}/eval/{dataset}/pred.npz\",\n",
    "    allow_pickle=True,\n",
    ")"
   ]
  },
  {
   "cell_type": "code",
   "execution_count": 123,
   "metadata": {},
   "outputs": [
    {
     "data": {
      "text/plain": [
       "True"
      ]
     },
     "execution_count": 123,
     "metadata": {},
     "output_type": "execute_result"
    }
   ],
   "source": [
    "(npz_train[\"labels\"] == npz_eval[\"labels\"]).all()"
   ]
  },
  {
   "cell_type": "code",
   "execution_count": 124,
   "metadata": {},
   "outputs": [
    {
     "data": {
      "text/plain": [
       "array([0, 1, 2, 3, 4])"
      ]
     },
     "execution_count": 124,
     "metadata": {},
     "output_type": "execute_result"
    }
   ],
   "source": [
    "np.unique(npz_eval[\"labels\"])"
   ]
  },
  {
   "cell_type": "code",
   "execution_count": 127,
   "metadata": {},
   "outputs": [
    {
     "data": {
      "text/plain": [
       "array([[21.484375 , 21.75     ],\n",
       "       [15.5390625, 19.46875  ],\n",
       "       [12.4765625, 19.234375 ],\n",
       "       ...,\n",
       "       [20.375    , 21.625    ],\n",
       "       [14.984375 , 19.046875 ],\n",
       "       [12.0546875, 20.40625  ]], dtype=float32)"
      ]
     },
     "execution_count": 127,
     "metadata": {},
     "output_type": "execute_result"
    }
   ],
   "source": [
    "npz_train[\"logits_ad\"].astype(np.float32)"
   ]
  },
  {
   "cell_type": "code",
   "execution_count": 126,
   "metadata": {},
   "outputs": [
    {
     "data": {
      "text/plain": [
       "array([[21.484375 , 21.75     ],\n",
       "       [15.53125  , 19.46875  ],\n",
       "       [12.4765625, 19.234375 ],\n",
       "       ...,\n",
       "       [20.375    , 21.625    ],\n",
       "       [14.9921875, 19.046875 ],\n",
       "       [12.0546875, 20.40625  ]], dtype=float32)"
      ]
     },
     "execution_count": 126,
     "metadata": {},
     "output_type": "execute_result"
    }
   ],
   "source": [
    "npz_eval[\"logits_ad\"]"
   ]
  },
  {
   "cell_type": "code",
   "execution_count": 103,
   "metadata": {},
   "outputs": [
    {
     "data": {
      "text/plain": [
       "['logits_ad',\n",
       " 'logits_diag',\n",
       " 'labels',\n",
       " 'feature_pretrained',\n",
       " 'feature_residual',\n",
       " 'text_features']"
      ]
     },
     "execution_count": 103,
     "metadata": {},
     "output_type": "execute_result"
    }
   ],
   "source": [
    "list(npz_eval.keys())"
   ]
  },
  {
   "cell_type": "code",
   "execution_count": 100,
   "metadata": {},
   "outputs": [
    {
     "data": {
      "text/plain": [
       "array([array([[ 0.15717892, -0.00215659, -0.27264616, ...,  0.16133256,\n",
       "               -0.00571735,  0.13413092],\n",
       "              [ 0.16950054, -0.03136753, -0.4428963 , ...,  0.03429547,\n",
       "               -0.21187079,  0.16039711]], dtype=float32)              ,\n",
       "       array([[ 0.14270435,  0.02773401, -0.5488286 , ..., -0.03261211,\n",
       "               -0.19043043,  0.20697245],\n",
       "              [ 0.09909903,  0.37599623, -0.31482425, ...,  0.06914981,\n",
       "                0.220462  ,  0.3773029 ],\n",
       "              [-0.07504829,  0.02507934, -0.37401712, ...,  0.11928586,\n",
       "               -0.05772017,  0.29035434],\n",
       "              [-0.11145949,  0.01316652, -0.52024966, ..., -0.03096075,\n",
       "               -0.00833256,  0.36999142],\n",
       "              [ 0.06279644,  0.06263534, -0.36327353, ...,  0.1476551 ,\n",
       "               -0.00780672,  0.44318208]], dtype=float32)              ],\n",
       "      dtype=object)"
      ]
     },
     "execution_count": 100,
     "metadata": {},
     "output_type": "execute_result"
    }
   ],
   "source": [
    "text_features_train_epoch0 = npz_train[\"text_features\"]\n",
    "\n",
    "text_features_train_epoch0"
   ]
  },
  {
   "cell_type": "code",
   "execution_count": 106,
   "metadata": {},
   "outputs": [
    {
     "data": {
      "text/plain": [
       "(5, 512)"
      ]
     },
     "execution_count": 106,
     "metadata": {},
     "output_type": "execute_result"
    }
   ],
   "source": [
    "text_features_train_epoch0[1].shape"
   ]
  },
  {
   "cell_type": "code",
   "execution_count": 92,
   "metadata": {},
   "outputs": [
    {
     "data": {
      "text/plain": [
       "array([array([[ 0.08925845, -0.06269898, -0.28041315, ...,  0.08074013,\n",
       "               -0.04141391,  0.10935175],\n",
       "              [ 0.17665195,  0.01470548, -0.5259161 , ..., -0.0117187 ,\n",
       "               -0.21989319,  0.1867312 ]], dtype=float32)              ,\n",
       "       array([[ 0.17665195,  0.01470544, -0.52591604, ..., -0.01171874,\n",
       "               -0.21989328,  0.18673114],\n",
       "              [ 0.01523243,  0.37906063, -0.32097137, ...,  0.05924025,\n",
       "                0.22164223,  0.39922267],\n",
       "              [-0.07075804, -0.03993231, -0.39417708, ...,  0.0965216 ,\n",
       "               -0.08527295,  0.3095482 ],\n",
       "              [-0.06608851, -0.00075469, -0.49799964, ..., -0.05840805,\n",
       "               -0.01869716,  0.43124393],\n",
       "              [ 0.02646679,  0.03762252, -0.29148975, ...,  0.20281917,\n",
       "                0.05875021,  0.4052459 ]], dtype=float32)              ],\n",
       "      dtype=object)"
      ]
     },
     "execution_count": 92,
     "metadata": {},
     "output_type": "execute_result"
    }
   ],
   "source": [
    "npz_eval[\"text_features\"]"
   ]
  },
  {
   "cell_type": "code",
   "execution_count": 120,
   "metadata": {},
   "outputs": [
    {
     "data": {
      "text/plain": [
       "tensor([[ 0.1040, -0.0940, -0.2636,  ...,  0.0590,  0.0278,  0.1165],\n",
       "        [ 0.1927,  0.0240, -0.5639,  ..., -0.0768, -0.1951,  0.1295]],\n",
       "       grad_fn=<MmBackward0>)"
      ]
     },
     "execution_count": 120,
     "metadata": {},
     "output_type": "execute_result"
    }
   ],
   "source": [
    "from models import BiomedCLIP\n",
    "\n",
    "backbone = BiomedCLIP()\n",
    "backbone.eval()\n",
    "\n",
    "texts = [\"An image of diseased\", \"An image of no findings\"]\n",
    "\n",
    "tf = backbone.encode_text(texts)\n",
    "\n",
    "tf"
   ]
  },
  {
   "cell_type": "code",
   "execution_count": 121,
   "metadata": {},
   "outputs": [
    {
     "data": {
      "text/plain": [
       "tensor([[ 0.1340, -0.0516, -0.2961,  ...,  0.0469, -0.0656,  0.0728],\n",
       "        [ 0.1696, -0.0794, -0.5426,  ..., -0.0459, -0.2034,  0.2239]],\n",
       "       grad_fn=<MmBackward0>)"
      ]
     },
     "execution_count": 121,
     "metadata": {},
     "output_type": "execute_result"
    }
   ],
   "source": [
    "backbone.encode_text(texts)"
   ]
  },
  {
   "cell_type": "code",
   "execution_count": 118,
   "metadata": {},
   "outputs": [
    {
     "name": "stdout",
     "output_type": "stream",
     "text": [
      "tensor([1.0000, 1.0000], grad_fn=<SumBackward1>)\n"
     ]
    }
   ],
   "source": [
    "cos = torch.nn.CosineSimilarity()\n",
    "\n",
    "print(cos(tf, backbone.encode_text(texts)))"
   ]
  },
  {
   "cell_type": "code",
   "execution_count": 104,
   "metadata": {},
   "outputs": [
    {
     "ename": "BadZipFile",
     "evalue": "Bad CRC-32 for file 'feature_residual.npy'",
     "output_type": "error",
     "traceback": [
      "\u001b[0;31m---------------------------------------------------------------------------\u001b[0m",
      "\u001b[0;31mBadZipFile\u001b[0m                                Traceback (most recent call last)",
      "\u001b[1;32m/home/yesindeed/Documents/Research/codes/ours/CLIP-multitask-finetune-moe/test.ipynb Cell 24\u001b[0m line \u001b[0;36m3\n\u001b[1;32m      <a href='vscode-notebook-cell:/home/yesindeed/Documents/Research/codes/ours/CLIP-multitask-finetune-moe/test.ipynb#X36sZmlsZQ%3D%3D?line=0'>1</a>\u001b[0m text_features \u001b[39m=\u001b[39m [torch\u001b[39m.\u001b[39mtensor(x) \u001b[39mfor\u001b[39;00m x \u001b[39min\u001b[39;00m text_features_train_epoch0]\n\u001b[1;32m      <a href='vscode-notebook-cell:/home/yesindeed/Documents/Research/codes/ours/CLIP-multitask-finetune-moe/test.ipynb#X36sZmlsZQ%3D%3D?line=1'>2</a>\u001b[0m image_feature_pretrained \u001b[39m=\u001b[39m torch\u001b[39m.\u001b[39mtensor(npz_eval[\u001b[39m\"\u001b[39m\u001b[39mfeature_pretrained\u001b[39m\u001b[39m\"\u001b[39m])\n\u001b[0;32m----> <a href='vscode-notebook-cell:/home/yesindeed/Documents/Research/codes/ours/CLIP-multitask-finetune-moe/test.ipynb#X36sZmlsZQ%3D%3D?line=2'>3</a>\u001b[0m image_feature_residual \u001b[39m=\u001b[39m torch\u001b[39m.\u001b[39mtensor(npz_eval[\u001b[39m\"\u001b[39;49m\u001b[39mfeature_residual\u001b[39;49m\u001b[39m\"\u001b[39;49m])\n\u001b[1;32m      <a href='vscode-notebook-cell:/home/yesindeed/Documents/Research/codes/ours/CLIP-multitask-finetune-moe/test.ipynb#X36sZmlsZQ%3D%3D?line=4'>5</a>\u001b[0m image_feature \u001b[39m=\u001b[39m image_feature_pretrained \u001b[39m+\u001b[39m image_feature_residual\n",
      "File \u001b[0;32m~/anaconda3/envs/mmoe/lib/python3.10/site-packages/numpy/lib/npyio.py:256\u001b[0m, in \u001b[0;36mNpzFile.__getitem__\u001b[0;34m(self, key)\u001b[0m\n\u001b[1;32m    254\u001b[0m \u001b[39mif\u001b[39;00m magic \u001b[39m==\u001b[39m \u001b[39mformat\u001b[39m\u001b[39m.\u001b[39mMAGIC_PREFIX:\n\u001b[1;32m    255\u001b[0m     \u001b[39mbytes\u001b[39m \u001b[39m=\u001b[39m \u001b[39mself\u001b[39m\u001b[39m.\u001b[39mzip\u001b[39m.\u001b[39mopen(key)\n\u001b[0;32m--> 256\u001b[0m     \u001b[39mreturn\u001b[39;00m \u001b[39mformat\u001b[39;49m\u001b[39m.\u001b[39;49mread_array(\u001b[39mbytes\u001b[39;49m,\n\u001b[1;32m    257\u001b[0m                              allow_pickle\u001b[39m=\u001b[39;49m\u001b[39mself\u001b[39;49m\u001b[39m.\u001b[39;49mallow_pickle,\n\u001b[1;32m    258\u001b[0m                              pickle_kwargs\u001b[39m=\u001b[39;49m\u001b[39mself\u001b[39;49m\u001b[39m.\u001b[39;49mpickle_kwargs,\n\u001b[1;32m    259\u001b[0m                              max_header_size\u001b[39m=\u001b[39;49m\u001b[39mself\u001b[39;49m\u001b[39m.\u001b[39;49mmax_header_size)\n\u001b[1;32m    260\u001b[0m \u001b[39melse\u001b[39;00m:\n\u001b[1;32m    261\u001b[0m     \u001b[39mreturn\u001b[39;00m \u001b[39mself\u001b[39m\u001b[39m.\u001b[39mzip\u001b[39m.\u001b[39mread(key)\n",
      "File \u001b[0;32m~/anaconda3/envs/mmoe/lib/python3.10/site-packages/numpy/lib/format.py:831\u001b[0m, in \u001b[0;36mread_array\u001b[0;34m(fp, allow_pickle, pickle_kwargs, max_header_size)\u001b[0m\n\u001b[1;32m    829\u001b[0m             read_count \u001b[39m=\u001b[39m \u001b[39mmin\u001b[39m(max_read_count, count \u001b[39m-\u001b[39m i)\n\u001b[1;32m    830\u001b[0m             read_size \u001b[39m=\u001b[39m \u001b[39mint\u001b[39m(read_count \u001b[39m*\u001b[39m dtype\u001b[39m.\u001b[39mitemsize)\n\u001b[0;32m--> 831\u001b[0m             data \u001b[39m=\u001b[39m _read_bytes(fp, read_size, \u001b[39m\"\u001b[39;49m\u001b[39marray data\u001b[39;49m\u001b[39m\"\u001b[39;49m)\n\u001b[1;32m    832\u001b[0m             array[i:i\u001b[39m+\u001b[39mread_count] \u001b[39m=\u001b[39m numpy\u001b[39m.\u001b[39mfrombuffer(data, dtype\u001b[39m=\u001b[39mdtype,\n\u001b[1;32m    833\u001b[0m                                                      count\u001b[39m=\u001b[39mread_count)\n\u001b[1;32m    835\u001b[0m \u001b[39mif\u001b[39;00m fortran_order:\n",
      "File \u001b[0;32m~/anaconda3/envs/mmoe/lib/python3.10/site-packages/numpy/lib/format.py:966\u001b[0m, in \u001b[0;36m_read_bytes\u001b[0;34m(fp, size, error_template)\u001b[0m\n\u001b[1;32m    961\u001b[0m \u001b[39mwhile\u001b[39;00m \u001b[39mTrue\u001b[39;00m:\n\u001b[1;32m    962\u001b[0m     \u001b[39m# io files (default in python3) return None or raise on\u001b[39;00m\n\u001b[1;32m    963\u001b[0m     \u001b[39m# would-block, python2 file will truncate, probably nothing can be\u001b[39;00m\n\u001b[1;32m    964\u001b[0m     \u001b[39m# done about that.  note that regular files can't be non-blocking\u001b[39;00m\n\u001b[1;32m    965\u001b[0m     \u001b[39mtry\u001b[39;00m:\n\u001b[0;32m--> 966\u001b[0m         r \u001b[39m=\u001b[39m fp\u001b[39m.\u001b[39;49mread(size \u001b[39m-\u001b[39;49m \u001b[39mlen\u001b[39;49m(data))\n\u001b[1;32m    967\u001b[0m         data \u001b[39m+\u001b[39m\u001b[39m=\u001b[39m r\n\u001b[1;32m    968\u001b[0m         \u001b[39mif\u001b[39;00m \u001b[39mlen\u001b[39m(r) \u001b[39m==\u001b[39m \u001b[39m0\u001b[39m \u001b[39mor\u001b[39;00m \u001b[39mlen\u001b[39m(data) \u001b[39m==\u001b[39m size:\n",
      "File \u001b[0;32m~/anaconda3/envs/mmoe/lib/python3.10/zipfile.py:923\u001b[0m, in \u001b[0;36mZipExtFile.read\u001b[0;34m(self, n)\u001b[0m\n\u001b[1;32m    921\u001b[0m \u001b[39mself\u001b[39m\u001b[39m.\u001b[39m_offset \u001b[39m=\u001b[39m \u001b[39m0\u001b[39m\n\u001b[1;32m    922\u001b[0m \u001b[39mwhile\u001b[39;00m n \u001b[39m>\u001b[39m \u001b[39m0\u001b[39m \u001b[39mand\u001b[39;00m \u001b[39mnot\u001b[39;00m \u001b[39mself\u001b[39m\u001b[39m.\u001b[39m_eof:\n\u001b[0;32m--> 923\u001b[0m     data \u001b[39m=\u001b[39m \u001b[39mself\u001b[39;49m\u001b[39m.\u001b[39;49m_read1(n)\n\u001b[1;32m    924\u001b[0m     \u001b[39mif\u001b[39;00m n \u001b[39m<\u001b[39m \u001b[39mlen\u001b[39m(data):\n\u001b[1;32m    925\u001b[0m         \u001b[39mself\u001b[39m\u001b[39m.\u001b[39m_readbuffer \u001b[39m=\u001b[39m data\n",
      "File \u001b[0;32m~/anaconda3/envs/mmoe/lib/python3.10/zipfile.py:1013\u001b[0m, in \u001b[0;36mZipExtFile._read1\u001b[0;34m(self, n)\u001b[0m\n\u001b[1;32m   1011\u001b[0m \u001b[39mif\u001b[39;00m \u001b[39mself\u001b[39m\u001b[39m.\u001b[39m_left \u001b[39m<\u001b[39m\u001b[39m=\u001b[39m \u001b[39m0\u001b[39m:\n\u001b[1;32m   1012\u001b[0m     \u001b[39mself\u001b[39m\u001b[39m.\u001b[39m_eof \u001b[39m=\u001b[39m \u001b[39mTrue\u001b[39;00m\n\u001b[0;32m-> 1013\u001b[0m \u001b[39mself\u001b[39;49m\u001b[39m.\u001b[39;49m_update_crc(data)\n\u001b[1;32m   1014\u001b[0m \u001b[39mreturn\u001b[39;00m data\n",
      "File \u001b[0;32m~/anaconda3/envs/mmoe/lib/python3.10/zipfile.py:941\u001b[0m, in \u001b[0;36mZipExtFile._update_crc\u001b[0;34m(self, newdata)\u001b[0m\n\u001b[1;32m    939\u001b[0m \u001b[39m# Check the CRC if we're at the end of the file\u001b[39;00m\n\u001b[1;32m    940\u001b[0m \u001b[39mif\u001b[39;00m \u001b[39mself\u001b[39m\u001b[39m.\u001b[39m_eof \u001b[39mand\u001b[39;00m \u001b[39mself\u001b[39m\u001b[39m.\u001b[39m_running_crc \u001b[39m!=\u001b[39m \u001b[39mself\u001b[39m\u001b[39m.\u001b[39m_expected_crc:\n\u001b[0;32m--> 941\u001b[0m     \u001b[39mraise\u001b[39;00m BadZipFile(\u001b[39m\"\u001b[39m\u001b[39mBad CRC-32 for file \u001b[39m\u001b[39m%r\u001b[39;00m\u001b[39m\"\u001b[39m \u001b[39m%\u001b[39m \u001b[39mself\u001b[39m\u001b[39m.\u001b[39mname)\n",
      "\u001b[0;31mBadZipFile\u001b[0m: Bad CRC-32 for file 'feature_residual.npy'"
     ]
    }
   ],
   "source": [
    "text_features = [torch.tensor(x) for x in text_features_train_epoch0]\n",
    "image_feature_pretrained = torch.tensor(npz_eval[\"feature_pretrained\"])\n",
    "image_feature_residual = torch.tensor(npz_eval[\"feature_residual\"])\n",
    "\n",
    "image_feature = image_feature_pretrained + image_feature_residual"
   ]
  },
  {
   "cell_type": "code",
   "execution_count": 62,
   "metadata": {},
   "outputs": [
    {
     "data": {
      "text/plain": [
       "{'auc-diag': 0.9039362399043596, 'acc-diag': 0.8856629213483146}"
      ]
     },
     "execution_count": 62,
     "metadata": {},
     "output_type": "execute_result"
    }
   ],
   "source": [
    "from utils.metrics import multitask_classification_report\n",
    "\n",
    "prob_diag_all = torch.softmax(torch.from_numpy(npz_train[\"logits_diag\"]), dim=-1).numpy()\n",
    "\n",
    "report = multitask_classification_report(\n",
    "    prob_diag_all,\n",
    "    npz_train[\"labels\"][:, -1],\n",
    "    classes=list(\n",
    "        {\n",
    "            \"no findings\": 0,\n",
    "            \"pulmonary embolism\": 1,\n",
    "            \"pulmonary embolism1\": 2,\n",
    "            \"pulmonary embolism2\": 3,\n",
    "            \"pulmonary embolism3\": 4,\n",
    "        }.keys()\n",
    "    ),\n",
    "    suffix=\"-diag\",\n",
    ")\n",
    "\n",
    "report"
   ]
  },
  {
   "cell_type": "code",
   "execution_count": 24,
   "metadata": {},
   "outputs": [
    {
     "data": {
      "text/plain": [
       "array([[23.218271, 28.55718 ],\n",
       "       [22.623829, 29.882902],\n",
       "       [17.40026 , 25.26371 ],\n",
       "       ...,\n",
       "       [21.250603, 28.289215],\n",
       "       [20.972004, 28.157858],\n",
       "       [22.025307, 28.142067]], dtype=float32)"
      ]
     },
     "execution_count": 24,
     "metadata": {},
     "output_type": "execute_result"
    }
   ],
   "source": [
    "npz_eval[\"logits_ad\"]"
   ]
  },
  {
   "cell_type": "code",
   "execution_count": 13,
   "metadata": {},
   "outputs": [
    {
     "ename": "BadZipFile",
     "evalue": "Bad CRC-32 for file 'logits_ad.npy'",
     "output_type": "error",
     "traceback": [
      "\u001b[0;31m---------------------------------------------------------------------------\u001b[0m",
      "\u001b[0;31mBadZipFile\u001b[0m                                Traceback (most recent call last)",
      "\u001b[1;32m/home/yesindeed/Documents/Research/codes/ours/CLIP-multitask-finetune-moe/test.ipynb Cell 20\u001b[0m line \u001b[0;36m1\n\u001b[0;32m----> <a href='vscode-notebook-cell:/home/yesindeed/Documents/Research/codes/ours/CLIP-multitask-finetune-moe/test.ipynb#X25sZmlsZQ%3D%3D?line=0'>1</a>\u001b[0m npz_eval[\u001b[39m\"\u001b[39;49m\u001b[39mlogits_ad\u001b[39;49m\u001b[39m\"\u001b[39;49m]\n",
      "File \u001b[0;32m~/anaconda3/envs/mmoe/lib/python3.10/site-packages/numpy/lib/npyio.py:256\u001b[0m, in \u001b[0;36mNpzFile.__getitem__\u001b[0;34m(self, key)\u001b[0m\n\u001b[1;32m    254\u001b[0m \u001b[39mif\u001b[39;00m magic \u001b[39m==\u001b[39m \u001b[39mformat\u001b[39m\u001b[39m.\u001b[39mMAGIC_PREFIX:\n\u001b[1;32m    255\u001b[0m     \u001b[39mbytes\u001b[39m \u001b[39m=\u001b[39m \u001b[39mself\u001b[39m\u001b[39m.\u001b[39mzip\u001b[39m.\u001b[39mopen(key)\n\u001b[0;32m--> 256\u001b[0m     \u001b[39mreturn\u001b[39;00m \u001b[39mformat\u001b[39;49m\u001b[39m.\u001b[39;49mread_array(\u001b[39mbytes\u001b[39;49m,\n\u001b[1;32m    257\u001b[0m                              allow_pickle\u001b[39m=\u001b[39;49m\u001b[39mself\u001b[39;49m\u001b[39m.\u001b[39;49mallow_pickle,\n\u001b[1;32m    258\u001b[0m                              pickle_kwargs\u001b[39m=\u001b[39;49m\u001b[39mself\u001b[39;49m\u001b[39m.\u001b[39;49mpickle_kwargs,\n\u001b[1;32m    259\u001b[0m                              max_header_size\u001b[39m=\u001b[39;49m\u001b[39mself\u001b[39;49m\u001b[39m.\u001b[39;49mmax_header_size)\n\u001b[1;32m    260\u001b[0m \u001b[39melse\u001b[39;00m:\n\u001b[1;32m    261\u001b[0m     \u001b[39mreturn\u001b[39;00m \u001b[39mself\u001b[39m\u001b[39m.\u001b[39mzip\u001b[39m.\u001b[39mread(key)\n",
      "File \u001b[0;32m~/anaconda3/envs/mmoe/lib/python3.10/site-packages/numpy/lib/format.py:831\u001b[0m, in \u001b[0;36mread_array\u001b[0;34m(fp, allow_pickle, pickle_kwargs, max_header_size)\u001b[0m\n\u001b[1;32m    829\u001b[0m             read_count \u001b[39m=\u001b[39m \u001b[39mmin\u001b[39m(max_read_count, count \u001b[39m-\u001b[39m i)\n\u001b[1;32m    830\u001b[0m             read_size \u001b[39m=\u001b[39m \u001b[39mint\u001b[39m(read_count \u001b[39m*\u001b[39m dtype\u001b[39m.\u001b[39mitemsize)\n\u001b[0;32m--> 831\u001b[0m             data \u001b[39m=\u001b[39m _read_bytes(fp, read_size, \u001b[39m\"\u001b[39;49m\u001b[39marray data\u001b[39;49m\u001b[39m\"\u001b[39;49m)\n\u001b[1;32m    832\u001b[0m             array[i:i\u001b[39m+\u001b[39mread_count] \u001b[39m=\u001b[39m numpy\u001b[39m.\u001b[39mfrombuffer(data, dtype\u001b[39m=\u001b[39mdtype,\n\u001b[1;32m    833\u001b[0m                                                      count\u001b[39m=\u001b[39mread_count)\n\u001b[1;32m    835\u001b[0m \u001b[39mif\u001b[39;00m fortran_order:\n",
      "File \u001b[0;32m~/anaconda3/envs/mmoe/lib/python3.10/site-packages/numpy/lib/format.py:966\u001b[0m, in \u001b[0;36m_read_bytes\u001b[0;34m(fp, size, error_template)\u001b[0m\n\u001b[1;32m    961\u001b[0m \u001b[39mwhile\u001b[39;00m \u001b[39mTrue\u001b[39;00m:\n\u001b[1;32m    962\u001b[0m     \u001b[39m# io files (default in python3) return None or raise on\u001b[39;00m\n\u001b[1;32m    963\u001b[0m     \u001b[39m# would-block, python2 file will truncate, probably nothing can be\u001b[39;00m\n\u001b[1;32m    964\u001b[0m     \u001b[39m# done about that.  note that regular files can't be non-blocking\u001b[39;00m\n\u001b[1;32m    965\u001b[0m     \u001b[39mtry\u001b[39;00m:\n\u001b[0;32m--> 966\u001b[0m         r \u001b[39m=\u001b[39m fp\u001b[39m.\u001b[39;49mread(size \u001b[39m-\u001b[39;49m \u001b[39mlen\u001b[39;49m(data))\n\u001b[1;32m    967\u001b[0m         data \u001b[39m+\u001b[39m\u001b[39m=\u001b[39m r\n\u001b[1;32m    968\u001b[0m         \u001b[39mif\u001b[39;00m \u001b[39mlen\u001b[39m(r) \u001b[39m==\u001b[39m \u001b[39m0\u001b[39m \u001b[39mor\u001b[39;00m \u001b[39mlen\u001b[39m(data) \u001b[39m==\u001b[39m size:\n",
      "File \u001b[0;32m~/anaconda3/envs/mmoe/lib/python3.10/zipfile.py:923\u001b[0m, in \u001b[0;36mZipExtFile.read\u001b[0;34m(self, n)\u001b[0m\n\u001b[1;32m    921\u001b[0m \u001b[39mself\u001b[39m\u001b[39m.\u001b[39m_offset \u001b[39m=\u001b[39m \u001b[39m0\u001b[39m\n\u001b[1;32m    922\u001b[0m \u001b[39mwhile\u001b[39;00m n \u001b[39m>\u001b[39m \u001b[39m0\u001b[39m \u001b[39mand\u001b[39;00m \u001b[39mnot\u001b[39;00m \u001b[39mself\u001b[39m\u001b[39m.\u001b[39m_eof:\n\u001b[0;32m--> 923\u001b[0m     data \u001b[39m=\u001b[39m \u001b[39mself\u001b[39;49m\u001b[39m.\u001b[39;49m_read1(n)\n\u001b[1;32m    924\u001b[0m     \u001b[39mif\u001b[39;00m n \u001b[39m<\u001b[39m \u001b[39mlen\u001b[39m(data):\n\u001b[1;32m    925\u001b[0m         \u001b[39mself\u001b[39m\u001b[39m.\u001b[39m_readbuffer \u001b[39m=\u001b[39m data\n",
      "File \u001b[0;32m~/anaconda3/envs/mmoe/lib/python3.10/zipfile.py:1013\u001b[0m, in \u001b[0;36mZipExtFile._read1\u001b[0;34m(self, n)\u001b[0m\n\u001b[1;32m   1011\u001b[0m \u001b[39mif\u001b[39;00m \u001b[39mself\u001b[39m\u001b[39m.\u001b[39m_left \u001b[39m<\u001b[39m\u001b[39m=\u001b[39m \u001b[39m0\u001b[39m:\n\u001b[1;32m   1012\u001b[0m     \u001b[39mself\u001b[39m\u001b[39m.\u001b[39m_eof \u001b[39m=\u001b[39m \u001b[39mTrue\u001b[39;00m\n\u001b[0;32m-> 1013\u001b[0m \u001b[39mself\u001b[39;49m\u001b[39m.\u001b[39;49m_update_crc(data)\n\u001b[1;32m   1014\u001b[0m \u001b[39mreturn\u001b[39;00m data\n",
      "File \u001b[0;32m~/anaconda3/envs/mmoe/lib/python3.10/zipfile.py:941\u001b[0m, in \u001b[0;36mZipExtFile._update_crc\u001b[0;34m(self, newdata)\u001b[0m\n\u001b[1;32m    939\u001b[0m \u001b[39m# Check the CRC if we're at the end of the file\u001b[39;00m\n\u001b[1;32m    940\u001b[0m \u001b[39mif\u001b[39;00m \u001b[39mself\u001b[39m\u001b[39m.\u001b[39m_eof \u001b[39mand\u001b[39;00m \u001b[39mself\u001b[39m\u001b[39m.\u001b[39m_running_crc \u001b[39m!=\u001b[39m \u001b[39mself\u001b[39m\u001b[39m.\u001b[39m_expected_crc:\n\u001b[0;32m--> 941\u001b[0m     \u001b[39mraise\u001b[39;00m BadZipFile(\u001b[39m\"\u001b[39m\u001b[39mBad CRC-32 for file \u001b[39m\u001b[39m%r\u001b[39;00m\u001b[39m\"\u001b[39m \u001b[39m%\u001b[39m \u001b[39mself\u001b[39m\u001b[39m.\u001b[39mname)\n",
      "\u001b[0;31mBadZipFile\u001b[0m: Bad CRC-32 for file 'logits_ad.npy'"
     ]
    }
   ],
   "source": [
    "npz_eval[\"logits_ad\"]"
   ]
  },
  {
   "cell_type": "code",
   "execution_count": null,
   "metadata": {},
   "outputs": [],
   "source": []
  }
 ],
 "metadata": {
  "kernelspec": {
   "display_name": "mmoe",
   "language": "python",
   "name": "python3"
  },
  "language_info": {
   "codemirror_mode": {
    "name": "ipython",
    "version": 3
   },
   "file_extension": ".py",
   "mimetype": "text/x-python",
   "name": "python",
   "nbconvert_exporter": "python",
   "pygments_lexer": "ipython3",
   "version": "3.10.0"
  }
 },
 "nbformat": 4,
 "nbformat_minor": 2
}
